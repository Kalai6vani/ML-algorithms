{
 "cells": [
  {
   "cell_type": "markdown",
   "id": "360dc6ec",
   "metadata": {
    "papermill": {
     "duration": 0.014848,
     "end_time": "2022-08-15T16:11:48.574710",
     "exception": false,
     "start_time": "2022-08-15T16:11:48.559862",
     "status": "completed"
    },
    "tags": []
   },
   "source": [
    "# Import Libraries"
   ]
  },
  {
   "cell_type": "code",
   "execution_count": 1,
   "id": "a6e5632d",
   "metadata": {
    "execution": {
     "iopub.execute_input": "2022-08-15T16:11:48.604972Z",
     "iopub.status.busy": "2022-08-15T16:11:48.604113Z",
     "iopub.status.idle": "2022-08-15T16:11:49.813038Z",
     "shell.execute_reply": "2022-08-15T16:11:49.811845Z"
    },
    "papermill": {
     "duration": 1.226768,
     "end_time": "2022-08-15T16:11:49.816233",
     "exception": false,
     "start_time": "2022-08-15T16:11:48.589465",
     "status": "completed"
    },
    "tags": []
   },
   "outputs": [],
   "source": [
    "import numpy as np \n",
    "import pandas as pd\n",
    "import matplotlib.pyplot as plt\n",
    "import seaborn as sns"
   ]
  },
  {
   "cell_type": "markdown",
   "id": "de065d18",
   "metadata": {
    "papermill": {
     "duration": 0.013234,
     "end_time": "2022-08-15T16:11:49.843731",
     "exception": false,
     "start_time": "2022-08-15T16:11:49.830497",
     "status": "completed"
    },
    "tags": []
   },
   "source": [
    "# Import Data"
   ]
  },
  {
   "cell_type": "code",
   "execution_count": 2,
   "id": "0130872b",
   "metadata": {
    "execution": {
     "iopub.execute_input": "2022-08-15T16:11:49.873284Z",
     "iopub.status.busy": "2022-08-15T16:11:49.872660Z",
     "iopub.status.idle": "2022-08-15T16:11:50.441127Z",
     "shell.execute_reply": "2022-08-15T16:11:50.439982Z"
    },
    "papermill": {
     "duration": 0.587065,
     "end_time": "2022-08-15T16:11:50.444334",
     "exception": false,
     "start_time": "2022-08-15T16:11:49.857269",
     "status": "completed"
    },
    "tags": []
   },
   "outputs": [
    {
     "data": {
      "text/html": [
       "<div>\n",
       "<style scoped>\n",
       "    .dataframe tbody tr th:only-of-type {\n",
       "        vertical-align: middle;\n",
       "    }\n",
       "\n",
       "    .dataframe tbody tr th {\n",
       "        vertical-align: top;\n",
       "    }\n",
       "\n",
       "    .dataframe thead th {\n",
       "        text-align: right;\n",
       "    }\n",
       "</style>\n",
       "<table border=\"1\" class=\"dataframe\">\n",
       "  <thead>\n",
       "    <tr style=\"text-align: right;\">\n",
       "      <th></th>\n",
       "      <th>Date</th>\n",
       "      <th>Location</th>\n",
       "      <th>MinTemp</th>\n",
       "      <th>MaxTemp</th>\n",
       "      <th>Rainfall</th>\n",
       "      <th>Evaporation</th>\n",
       "      <th>Sunshine</th>\n",
       "      <th>WindGustDir</th>\n",
       "      <th>WindGustSpeed</th>\n",
       "      <th>WindDir9am</th>\n",
       "      <th>...</th>\n",
       "      <th>Humidity9am</th>\n",
       "      <th>Humidity3pm</th>\n",
       "      <th>Pressure9am</th>\n",
       "      <th>Pressure3pm</th>\n",
       "      <th>Cloud9am</th>\n",
       "      <th>Cloud3pm</th>\n",
       "      <th>Temp9am</th>\n",
       "      <th>Temp3pm</th>\n",
       "      <th>RainToday</th>\n",
       "      <th>RainTomorrow</th>\n",
       "    </tr>\n",
       "  </thead>\n",
       "  <tbody>\n",
       "    <tr>\n",
       "      <th>0</th>\n",
       "      <td>2008-12-01</td>\n",
       "      <td>Albury</td>\n",
       "      <td>13.4</td>\n",
       "      <td>22.9</td>\n",
       "      <td>0.6</td>\n",
       "      <td>NaN</td>\n",
       "      <td>NaN</td>\n",
       "      <td>W</td>\n",
       "      <td>44.0</td>\n",
       "      <td>W</td>\n",
       "      <td>...</td>\n",
       "      <td>71.0</td>\n",
       "      <td>22.0</td>\n",
       "      <td>1007.7</td>\n",
       "      <td>1007.1</td>\n",
       "      <td>8.0</td>\n",
       "      <td>NaN</td>\n",
       "      <td>16.9</td>\n",
       "      <td>21.8</td>\n",
       "      <td>No</td>\n",
       "      <td>No</td>\n",
       "    </tr>\n",
       "    <tr>\n",
       "      <th>1</th>\n",
       "      <td>2008-12-02</td>\n",
       "      <td>Albury</td>\n",
       "      <td>7.4</td>\n",
       "      <td>25.1</td>\n",
       "      <td>0.0</td>\n",
       "      <td>NaN</td>\n",
       "      <td>NaN</td>\n",
       "      <td>WNW</td>\n",
       "      <td>44.0</td>\n",
       "      <td>NNW</td>\n",
       "      <td>...</td>\n",
       "      <td>44.0</td>\n",
       "      <td>25.0</td>\n",
       "      <td>1010.6</td>\n",
       "      <td>1007.8</td>\n",
       "      <td>NaN</td>\n",
       "      <td>NaN</td>\n",
       "      <td>17.2</td>\n",
       "      <td>24.3</td>\n",
       "      <td>No</td>\n",
       "      <td>No</td>\n",
       "    </tr>\n",
       "    <tr>\n",
       "      <th>2</th>\n",
       "      <td>2008-12-03</td>\n",
       "      <td>Albury</td>\n",
       "      <td>12.9</td>\n",
       "      <td>25.7</td>\n",
       "      <td>0.0</td>\n",
       "      <td>NaN</td>\n",
       "      <td>NaN</td>\n",
       "      <td>WSW</td>\n",
       "      <td>46.0</td>\n",
       "      <td>W</td>\n",
       "      <td>...</td>\n",
       "      <td>38.0</td>\n",
       "      <td>30.0</td>\n",
       "      <td>1007.6</td>\n",
       "      <td>1008.7</td>\n",
       "      <td>NaN</td>\n",
       "      <td>2.0</td>\n",
       "      <td>21.0</td>\n",
       "      <td>23.2</td>\n",
       "      <td>No</td>\n",
       "      <td>No</td>\n",
       "    </tr>\n",
       "    <tr>\n",
       "      <th>3</th>\n",
       "      <td>2008-12-04</td>\n",
       "      <td>Albury</td>\n",
       "      <td>9.2</td>\n",
       "      <td>28.0</td>\n",
       "      <td>0.0</td>\n",
       "      <td>NaN</td>\n",
       "      <td>NaN</td>\n",
       "      <td>NE</td>\n",
       "      <td>24.0</td>\n",
       "      <td>SE</td>\n",
       "      <td>...</td>\n",
       "      <td>45.0</td>\n",
       "      <td>16.0</td>\n",
       "      <td>1017.6</td>\n",
       "      <td>1012.8</td>\n",
       "      <td>NaN</td>\n",
       "      <td>NaN</td>\n",
       "      <td>18.1</td>\n",
       "      <td>26.5</td>\n",
       "      <td>No</td>\n",
       "      <td>No</td>\n",
       "    </tr>\n",
       "    <tr>\n",
       "      <th>4</th>\n",
       "      <td>2008-12-05</td>\n",
       "      <td>Albury</td>\n",
       "      <td>17.5</td>\n",
       "      <td>32.3</td>\n",
       "      <td>1.0</td>\n",
       "      <td>NaN</td>\n",
       "      <td>NaN</td>\n",
       "      <td>W</td>\n",
       "      <td>41.0</td>\n",
       "      <td>ENE</td>\n",
       "      <td>...</td>\n",
       "      <td>82.0</td>\n",
       "      <td>33.0</td>\n",
       "      <td>1010.8</td>\n",
       "      <td>1006.0</td>\n",
       "      <td>7.0</td>\n",
       "      <td>8.0</td>\n",
       "      <td>17.8</td>\n",
       "      <td>29.7</td>\n",
       "      <td>No</td>\n",
       "      <td>No</td>\n",
       "    </tr>\n",
       "  </tbody>\n",
       "</table>\n",
       "<p>5 rows × 23 columns</p>\n",
       "</div>"
      ],
      "text/plain": [
       "         Date Location  MinTemp  MaxTemp  Rainfall  Evaporation  Sunshine  \\\n",
       "0  2008-12-01   Albury     13.4     22.9       0.6          NaN       NaN   \n",
       "1  2008-12-02   Albury      7.4     25.1       0.0          NaN       NaN   \n",
       "2  2008-12-03   Albury     12.9     25.7       0.0          NaN       NaN   \n",
       "3  2008-12-04   Albury      9.2     28.0       0.0          NaN       NaN   \n",
       "4  2008-12-05   Albury     17.5     32.3       1.0          NaN       NaN   \n",
       "\n",
       "  WindGustDir  WindGustSpeed WindDir9am  ... Humidity9am  Humidity3pm  \\\n",
       "0           W           44.0          W  ...        71.0         22.0   \n",
       "1         WNW           44.0        NNW  ...        44.0         25.0   \n",
       "2         WSW           46.0          W  ...        38.0         30.0   \n",
       "3          NE           24.0         SE  ...        45.0         16.0   \n",
       "4           W           41.0        ENE  ...        82.0         33.0   \n",
       "\n",
       "   Pressure9am  Pressure3pm  Cloud9am  Cloud3pm  Temp9am  Temp3pm  RainToday  \\\n",
       "0       1007.7       1007.1       8.0       NaN     16.9     21.8         No   \n",
       "1       1010.6       1007.8       NaN       NaN     17.2     24.3         No   \n",
       "2       1007.6       1008.7       NaN       2.0     21.0     23.2         No   \n",
       "3       1017.6       1012.8       NaN       NaN     18.1     26.5         No   \n",
       "4       1010.8       1006.0       7.0       8.0     17.8     29.7         No   \n",
       "\n",
       "   RainTomorrow  \n",
       "0            No  \n",
       "1            No  \n",
       "2            No  \n",
       "3            No  \n",
       "4            No  \n",
       "\n",
       "[5 rows x 23 columns]"
      ]
     },
     "execution_count": 2,
     "metadata": {},
     "output_type": "execute_result"
    }
   ],
   "source": [
    "df = pd.read_csv('../input/weather-dataset-rattle-package/weatherAUS.csv')\n",
    "df.head() #displays all the observations in the data frame"
   ]
  },
  {
   "cell_type": "markdown",
   "id": "670d2b78",
   "metadata": {
    "papermill": {
     "duration": 0.01348,
     "end_time": "2022-08-15T16:11:50.471462",
     "exception": false,
     "start_time": "2022-08-15T16:11:50.457982",
     "status": "completed"
    },
    "tags": []
   },
   "source": [
    "# Exploratory Data Analysis"
   ]
  },
  {
   "cell_type": "code",
   "execution_count": 3,
   "id": "33ba62c1",
   "metadata": {
    "execution": {
     "iopub.execute_input": "2022-08-15T16:11:50.503865Z",
     "iopub.status.busy": "2022-08-15T16:11:50.502969Z",
     "iopub.status.idle": "2022-08-15T16:11:50.509452Z",
     "shell.execute_reply": "2022-08-15T16:11:50.508345Z"
    },
    "papermill": {
     "duration": 0.024706,
     "end_time": "2022-08-15T16:11:50.511680",
     "exception": false,
     "start_time": "2022-08-15T16:11:50.486974",
     "status": "completed"
    },
    "tags": []
   },
   "outputs": [
    {
     "name": "stdout",
     "output_type": "stream",
     "text": [
      "Size of data frame:  (145460, 23)\n"
     ]
    }
   ],
   "source": [
    "#check the shape of the dataframe\n",
    "print('Size of data frame: ',df.shape)"
   ]
  },
  {
   "cell_type": "markdown",
   "id": "ba66e7f6",
   "metadata": {
    "papermill": {
     "duration": 0.018658,
     "end_time": "2022-08-15T16:11:50.549569",
     "exception": false,
     "start_time": "2022-08-15T16:11:50.530911",
     "status": "completed"
    },
    "tags": []
   },
   "source": [
    "Rows = 145460\n",
    "Columns = 23\n",
    "\n",
    "Target = 'RainTomorrow'"
   ]
  },
  {
   "cell_type": "markdown",
   "id": "a5e773d1",
   "metadata": {
    "papermill": {
     "duration": 0.019628,
     "end_time": "2022-08-15T16:11:50.586027",
     "exception": false,
     "start_time": "2022-08-15T16:11:50.566399",
     "status": "completed"
    },
    "tags": []
   },
   "source": [
    "# * There are 23 variables in the data frame. \n",
    "#  * We take 'RainTomorrow' as the **testing variable** that helps us to identify the weather condition tomorrow.\n",
    "# * The rest 22 variables are considered to be **predictor variables**"
   ]
  },
  {
   "cell_type": "markdown",
   "id": "4df31dda",
   "metadata": {
    "papermill": {
     "duration": 0.013084,
     "end_time": "2022-08-15T16:11:50.613010",
     "exception": false,
     "start_time": "2022-08-15T16:11:50.599926",
     "status": "completed"
    },
    "tags": []
   },
   "source": [
    "# Data Pre-processing"
   ]
  },
  {
   "cell_type": "code",
   "execution_count": 4,
   "id": "7cb0a044",
   "metadata": {
    "execution": {
     "iopub.execute_input": "2022-08-15T16:11:50.642090Z",
     "iopub.status.busy": "2022-08-15T16:11:50.641431Z",
     "iopub.status.idle": "2022-08-15T16:11:50.700874Z",
     "shell.execute_reply": "2022-08-15T16:11:50.699407Z"
    },
    "papermill": {
     "duration": 0.077028,
     "end_time": "2022-08-15T16:11:50.703529",
     "exception": false,
     "start_time": "2022-08-15T16:11:50.626501",
     "status": "completed"
    },
    "tags": []
   },
   "outputs": [
    {
     "name": "stdout",
     "output_type": "stream",
     "text": [
      "Sunshine          75625\n",
      "Evaporation       82670\n",
      "Cloud3pm          86102\n",
      "Cloud9am          89572\n",
      "Pressure9am      130395\n",
      "Pressure3pm      130432\n",
      "WindDir9am       134894\n",
      "WindGustDir      135134\n",
      "WindGustSpeed    135197\n",
      "Humidity3pm      140953\n",
      "WindDir3pm       141232\n",
      "Temp3pm          141851\n",
      "RainTomorrow     142193\n",
      "RainToday        142199\n",
      "Rainfall         142199\n",
      "WindSpeed3pm     142398\n",
      "Humidity9am      142806\n",
      "Temp9am          143693\n",
      "WindSpeed9am     143693\n",
      "MinTemp          143975\n",
      "MaxTemp          144199\n",
      "Location         145460\n",
      "Date             145460\n",
      "dtype: int64\n"
     ]
    }
   ],
   "source": [
    "print(df.count().sort_values())"
   ]
  },
  {
   "cell_type": "markdown",
   "id": "85c7fdf6",
   "metadata": {
    "papermill": {
     "duration": 0.013755,
     "end_time": "2022-08-15T16:11:50.731591",
     "exception": false,
     "start_time": "2022-08-15T16:11:50.717836",
     "status": "completed"
    },
    "tags": []
   },
   "source": [
    "# Delete unwanted variables"
   ]
  },
  {
   "cell_type": "markdown",
   "id": "5cff292d",
   "metadata": {
    "papermill": {
     "duration": 0.014137,
     "end_time": "2022-08-15T16:11:50.759048",
     "exception": false,
     "start_time": "2022-08-15T16:11:50.744911",
     "status": "completed"
    },
    "tags": []
   },
   "source": [
    "# Remove null values - if any"
   ]
  },
  {
   "cell_type": "code",
   "execution_count": 5,
   "id": "788b79bd",
   "metadata": {
    "execution": {
     "iopub.execute_input": "2022-08-15T16:11:50.787906Z",
     "iopub.status.busy": "2022-08-15T16:11:50.787228Z",
     "iopub.status.idle": "2022-08-15T16:11:50.856816Z",
     "shell.execute_reply": "2022-08-15T16:11:50.855283Z"
    },
    "papermill": {
     "duration": 0.087038,
     "end_time": "2022-08-15T16:11:50.859726",
     "exception": false,
     "start_time": "2022-08-15T16:11:50.772688",
     "status": "completed"
    },
    "tags": []
   },
   "outputs": [
    {
     "name": "stdout",
     "output_type": "stream",
     "text": [
      "<class 'pandas.core.frame.DataFrame'>\n",
      "RangeIndex: 145460 entries, 0 to 145459\n",
      "Data columns (total 23 columns):\n",
      " #   Column         Non-Null Count   Dtype  \n",
      "---  ------         --------------   -----  \n",
      " 0   Date           145460 non-null  object \n",
      " 1   Location       145460 non-null  object \n",
      " 2   MinTemp        143975 non-null  float64\n",
      " 3   MaxTemp        144199 non-null  float64\n",
      " 4   Rainfall       142199 non-null  float64\n",
      " 5   Evaporation    82670 non-null   float64\n",
      " 6   Sunshine       75625 non-null   float64\n",
      " 7   WindGustDir    135134 non-null  object \n",
      " 8   WindGustSpeed  135197 non-null  float64\n",
      " 9   WindDir9am     134894 non-null  object \n",
      " 10  WindDir3pm     141232 non-null  object \n",
      " 11  WindSpeed9am   143693 non-null  float64\n",
      " 12  WindSpeed3pm   142398 non-null  float64\n",
      " 13  Humidity9am    142806 non-null  float64\n",
      " 14  Humidity3pm    140953 non-null  float64\n",
      " 15  Pressure9am    130395 non-null  float64\n",
      " 16  Pressure3pm    130432 non-null  float64\n",
      " 17  Cloud9am       89572 non-null   float64\n",
      " 18  Cloud3pm       86102 non-null   float64\n",
      " 19  Temp9am        143693 non-null  float64\n",
      " 20  Temp3pm        141851 non-null  float64\n",
      " 21  RainToday      142199 non-null  object \n",
      " 22  RainTomorrow   142193 non-null  object \n",
      "dtypes: float64(16), object(7)\n",
      "memory usage: 25.5+ MB\n"
     ]
    }
   ],
   "source": [
    "df.info()"
   ]
  },
  {
   "cell_type": "markdown",
   "id": "d03b8a64",
   "metadata": {
    "papermill": {
     "duration": 0.013483,
     "end_time": "2022-08-15T16:11:50.887281",
     "exception": false,
     "start_time": "2022-08-15T16:11:50.873798",
     "status": "completed"
    },
    "tags": []
   },
   "source": [
    "# **isna()** function is used to detect missing values. \n",
    "# It return a boolean same-sized object indicating if the values are NA, such as None or numpy. \n",
    "# NaN, gets mapped to True values. \n",
    "# Everything else gets mapped to False values."
   ]
  },
  {
   "cell_type": "code",
   "execution_count": 6,
   "id": "f38e960b",
   "metadata": {
    "execution": {
     "iopub.execute_input": "2022-08-15T16:11:50.918123Z",
     "iopub.status.busy": "2022-08-15T16:11:50.917712Z",
     "iopub.status.idle": "2022-08-15T16:11:50.973493Z",
     "shell.execute_reply": "2022-08-15T16:11:50.972248Z"
    },
    "papermill": {
     "duration": 0.074105,
     "end_time": "2022-08-15T16:11:50.975924",
     "exception": false,
     "start_time": "2022-08-15T16:11:50.901819",
     "status": "completed"
    },
    "tags": []
   },
   "outputs": [
    {
     "data": {
      "text/plain": [
       "Date                 0\n",
       "Location             0\n",
       "MinTemp           1485\n",
       "MaxTemp           1261\n",
       "Rainfall          3261\n",
       "Evaporation      62790\n",
       "Sunshine         69835\n",
       "WindGustDir      10326\n",
       "WindGustSpeed    10263\n",
       "WindDir9am       10566\n",
       "WindDir3pm        4228\n",
       "WindSpeed9am      1767\n",
       "WindSpeed3pm      3062\n",
       "Humidity9am       2654\n",
       "Humidity3pm       4507\n",
       "Pressure9am      15065\n",
       "Pressure3pm      15028\n",
       "Cloud9am         55888\n",
       "Cloud3pm         59358\n",
       "Temp9am           1767\n",
       "Temp3pm           3609\n",
       "RainToday         3261\n",
       "RainTomorrow      3267\n",
       "dtype: int64"
      ]
     },
     "execution_count": 6,
     "metadata": {},
     "output_type": "execute_result"
    }
   ],
   "source": [
    "df.isna().sum()"
   ]
  },
  {
   "cell_type": "code",
   "execution_count": 7,
   "id": "417501a2",
   "metadata": {
    "execution": {
     "iopub.execute_input": "2022-08-15T16:11:51.006229Z",
     "iopub.status.busy": "2022-08-15T16:11:51.005437Z",
     "iopub.status.idle": "2022-08-15T16:11:51.142523Z",
     "shell.execute_reply": "2022-08-15T16:11:51.141384Z"
    },
    "papermill": {
     "duration": 0.154884,
     "end_time": "2022-08-15T16:11:51.144962",
     "exception": false,
     "start_time": "2022-08-15T16:11:50.990078",
     "status": "completed"
    },
    "tags": []
   },
   "outputs": [
    {
     "data": {
      "text/html": [
       "<div>\n",
       "<style scoped>\n",
       "    .dataframe tbody tr th:only-of-type {\n",
       "        vertical-align: middle;\n",
       "    }\n",
       "\n",
       "    .dataframe tbody tr th {\n",
       "        vertical-align: top;\n",
       "    }\n",
       "\n",
       "    .dataframe thead th {\n",
       "        text-align: right;\n",
       "    }\n",
       "</style>\n",
       "<table border=\"1\" class=\"dataframe\">\n",
       "  <thead>\n",
       "    <tr style=\"text-align: right;\">\n",
       "      <th></th>\n",
       "      <th>Date</th>\n",
       "      <th>Location</th>\n",
       "      <th>WindGustDir</th>\n",
       "      <th>WindDir9am</th>\n",
       "      <th>WindDir3pm</th>\n",
       "      <th>RainToday</th>\n",
       "      <th>RainTomorrow</th>\n",
       "    </tr>\n",
       "  </thead>\n",
       "  <tbody>\n",
       "    <tr>\n",
       "      <th>count</th>\n",
       "      <td>145460</td>\n",
       "      <td>145460</td>\n",
       "      <td>135134</td>\n",
       "      <td>134894</td>\n",
       "      <td>141232</td>\n",
       "      <td>142199</td>\n",
       "      <td>142193</td>\n",
       "    </tr>\n",
       "    <tr>\n",
       "      <th>unique</th>\n",
       "      <td>3436</td>\n",
       "      <td>49</td>\n",
       "      <td>16</td>\n",
       "      <td>16</td>\n",
       "      <td>16</td>\n",
       "      <td>2</td>\n",
       "      <td>2</td>\n",
       "    </tr>\n",
       "    <tr>\n",
       "      <th>top</th>\n",
       "      <td>2013-11-12</td>\n",
       "      <td>Canberra</td>\n",
       "      <td>W</td>\n",
       "      <td>N</td>\n",
       "      <td>SE</td>\n",
       "      <td>No</td>\n",
       "      <td>No</td>\n",
       "    </tr>\n",
       "    <tr>\n",
       "      <th>freq</th>\n",
       "      <td>49</td>\n",
       "      <td>3436</td>\n",
       "      <td>9915</td>\n",
       "      <td>11758</td>\n",
       "      <td>10838</td>\n",
       "      <td>110319</td>\n",
       "      <td>110316</td>\n",
       "    </tr>\n",
       "  </tbody>\n",
       "</table>\n",
       "</div>"
      ],
      "text/plain": [
       "              Date  Location WindGustDir WindDir9am WindDir3pm RainToday  \\\n",
       "count       145460    145460      135134     134894     141232    142199   \n",
       "unique        3436        49          16         16         16         2   \n",
       "top     2013-11-12  Canberra           W          N         SE        No   \n",
       "freq            49      3436        9915      11758      10838    110319   \n",
       "\n",
       "       RainTomorrow  \n",
       "count        142193  \n",
       "unique            2  \n",
       "top              No  \n",
       "freq         110316  "
      ]
     },
     "execution_count": 7,
     "metadata": {},
     "output_type": "execute_result"
    }
   ],
   "source": [
    "df.describe(include=\"O\")"
   ]
  },
  {
   "cell_type": "code",
   "execution_count": 8,
   "id": "16a02845",
   "metadata": {
    "execution": {
     "iopub.execute_input": "2022-08-15T16:11:51.174957Z",
     "iopub.status.busy": "2022-08-15T16:11:51.174536Z",
     "iopub.status.idle": "2022-08-15T16:11:51.340869Z",
     "shell.execute_reply": "2022-08-15T16:11:51.339806Z"
    },
    "papermill": {
     "duration": 0.184198,
     "end_time": "2022-08-15T16:11:51.343378",
     "exception": false,
     "start_time": "2022-08-15T16:11:51.159180",
     "status": "completed"
    },
    "tags": []
   },
   "outputs": [
    {
     "data": {
      "text/html": [
       "<div>\n",
       "<style scoped>\n",
       "    .dataframe tbody tr th:only-of-type {\n",
       "        vertical-align: middle;\n",
       "    }\n",
       "\n",
       "    .dataframe tbody tr th {\n",
       "        vertical-align: top;\n",
       "    }\n",
       "\n",
       "    .dataframe thead th {\n",
       "        text-align: right;\n",
       "    }\n",
       "</style>\n",
       "<table border=\"1\" class=\"dataframe\">\n",
       "  <thead>\n",
       "    <tr style=\"text-align: right;\">\n",
       "      <th></th>\n",
       "      <th>MinTemp</th>\n",
       "      <th>MaxTemp</th>\n",
       "      <th>Rainfall</th>\n",
       "      <th>Evaporation</th>\n",
       "      <th>Sunshine</th>\n",
       "      <th>WindGustSpeed</th>\n",
       "      <th>WindSpeed9am</th>\n",
       "      <th>WindSpeed3pm</th>\n",
       "      <th>Humidity9am</th>\n",
       "      <th>Humidity3pm</th>\n",
       "      <th>Pressure9am</th>\n",
       "      <th>Pressure3pm</th>\n",
       "      <th>Cloud9am</th>\n",
       "      <th>Cloud3pm</th>\n",
       "      <th>Temp9am</th>\n",
       "      <th>Temp3pm</th>\n",
       "    </tr>\n",
       "  </thead>\n",
       "  <tbody>\n",
       "    <tr>\n",
       "      <th>count</th>\n",
       "      <td>143975.000000</td>\n",
       "      <td>144199.000000</td>\n",
       "      <td>142199.000000</td>\n",
       "      <td>82670.000000</td>\n",
       "      <td>75625.000000</td>\n",
       "      <td>135197.000000</td>\n",
       "      <td>143693.000000</td>\n",
       "      <td>142398.000000</td>\n",
       "      <td>142806.000000</td>\n",
       "      <td>140953.000000</td>\n",
       "      <td>130395.00000</td>\n",
       "      <td>130432.000000</td>\n",
       "      <td>89572.000000</td>\n",
       "      <td>86102.000000</td>\n",
       "      <td>143693.000000</td>\n",
       "      <td>141851.00000</td>\n",
       "    </tr>\n",
       "    <tr>\n",
       "      <th>mean</th>\n",
       "      <td>12.194034</td>\n",
       "      <td>23.221348</td>\n",
       "      <td>2.360918</td>\n",
       "      <td>5.468232</td>\n",
       "      <td>7.611178</td>\n",
       "      <td>40.035230</td>\n",
       "      <td>14.043426</td>\n",
       "      <td>18.662657</td>\n",
       "      <td>68.880831</td>\n",
       "      <td>51.539116</td>\n",
       "      <td>1017.64994</td>\n",
       "      <td>1015.255889</td>\n",
       "      <td>4.447461</td>\n",
       "      <td>4.509930</td>\n",
       "      <td>16.990631</td>\n",
       "      <td>21.68339</td>\n",
       "    </tr>\n",
       "    <tr>\n",
       "      <th>std</th>\n",
       "      <td>6.398495</td>\n",
       "      <td>7.119049</td>\n",
       "      <td>8.478060</td>\n",
       "      <td>4.193704</td>\n",
       "      <td>3.785483</td>\n",
       "      <td>13.607062</td>\n",
       "      <td>8.915375</td>\n",
       "      <td>8.809800</td>\n",
       "      <td>19.029164</td>\n",
       "      <td>20.795902</td>\n",
       "      <td>7.10653</td>\n",
       "      <td>7.037414</td>\n",
       "      <td>2.887159</td>\n",
       "      <td>2.720357</td>\n",
       "      <td>6.488753</td>\n",
       "      <td>6.93665</td>\n",
       "    </tr>\n",
       "    <tr>\n",
       "      <th>min</th>\n",
       "      <td>-8.500000</td>\n",
       "      <td>-4.800000</td>\n",
       "      <td>0.000000</td>\n",
       "      <td>0.000000</td>\n",
       "      <td>0.000000</td>\n",
       "      <td>6.000000</td>\n",
       "      <td>0.000000</td>\n",
       "      <td>0.000000</td>\n",
       "      <td>0.000000</td>\n",
       "      <td>0.000000</td>\n",
       "      <td>980.50000</td>\n",
       "      <td>977.100000</td>\n",
       "      <td>0.000000</td>\n",
       "      <td>0.000000</td>\n",
       "      <td>-7.200000</td>\n",
       "      <td>-5.40000</td>\n",
       "    </tr>\n",
       "    <tr>\n",
       "      <th>25%</th>\n",
       "      <td>7.600000</td>\n",
       "      <td>17.900000</td>\n",
       "      <td>0.000000</td>\n",
       "      <td>2.600000</td>\n",
       "      <td>4.800000</td>\n",
       "      <td>31.000000</td>\n",
       "      <td>7.000000</td>\n",
       "      <td>13.000000</td>\n",
       "      <td>57.000000</td>\n",
       "      <td>37.000000</td>\n",
       "      <td>1012.90000</td>\n",
       "      <td>1010.400000</td>\n",
       "      <td>1.000000</td>\n",
       "      <td>2.000000</td>\n",
       "      <td>12.300000</td>\n",
       "      <td>16.60000</td>\n",
       "    </tr>\n",
       "    <tr>\n",
       "      <th>50%</th>\n",
       "      <td>12.000000</td>\n",
       "      <td>22.600000</td>\n",
       "      <td>0.000000</td>\n",
       "      <td>4.800000</td>\n",
       "      <td>8.400000</td>\n",
       "      <td>39.000000</td>\n",
       "      <td>13.000000</td>\n",
       "      <td>19.000000</td>\n",
       "      <td>70.000000</td>\n",
       "      <td>52.000000</td>\n",
       "      <td>1017.60000</td>\n",
       "      <td>1015.200000</td>\n",
       "      <td>5.000000</td>\n",
       "      <td>5.000000</td>\n",
       "      <td>16.700000</td>\n",
       "      <td>21.10000</td>\n",
       "    </tr>\n",
       "    <tr>\n",
       "      <th>75%</th>\n",
       "      <td>16.900000</td>\n",
       "      <td>28.200000</td>\n",
       "      <td>0.800000</td>\n",
       "      <td>7.400000</td>\n",
       "      <td>10.600000</td>\n",
       "      <td>48.000000</td>\n",
       "      <td>19.000000</td>\n",
       "      <td>24.000000</td>\n",
       "      <td>83.000000</td>\n",
       "      <td>66.000000</td>\n",
       "      <td>1022.40000</td>\n",
       "      <td>1020.000000</td>\n",
       "      <td>7.000000</td>\n",
       "      <td>7.000000</td>\n",
       "      <td>21.600000</td>\n",
       "      <td>26.40000</td>\n",
       "    </tr>\n",
       "    <tr>\n",
       "      <th>max</th>\n",
       "      <td>33.900000</td>\n",
       "      <td>48.100000</td>\n",
       "      <td>371.000000</td>\n",
       "      <td>145.000000</td>\n",
       "      <td>14.500000</td>\n",
       "      <td>135.000000</td>\n",
       "      <td>130.000000</td>\n",
       "      <td>87.000000</td>\n",
       "      <td>100.000000</td>\n",
       "      <td>100.000000</td>\n",
       "      <td>1041.00000</td>\n",
       "      <td>1039.600000</td>\n",
       "      <td>9.000000</td>\n",
       "      <td>9.000000</td>\n",
       "      <td>40.200000</td>\n",
       "      <td>46.70000</td>\n",
       "    </tr>\n",
       "  </tbody>\n",
       "</table>\n",
       "</div>"
      ],
      "text/plain": [
       "             MinTemp        MaxTemp       Rainfall   Evaporation  \\\n",
       "count  143975.000000  144199.000000  142199.000000  82670.000000   \n",
       "mean       12.194034      23.221348       2.360918      5.468232   \n",
       "std         6.398495       7.119049       8.478060      4.193704   \n",
       "min        -8.500000      -4.800000       0.000000      0.000000   \n",
       "25%         7.600000      17.900000       0.000000      2.600000   \n",
       "50%        12.000000      22.600000       0.000000      4.800000   \n",
       "75%        16.900000      28.200000       0.800000      7.400000   \n",
       "max        33.900000      48.100000     371.000000    145.000000   \n",
       "\n",
       "           Sunshine  WindGustSpeed   WindSpeed9am   WindSpeed3pm  \\\n",
       "count  75625.000000  135197.000000  143693.000000  142398.000000   \n",
       "mean       7.611178      40.035230      14.043426      18.662657   \n",
       "std        3.785483      13.607062       8.915375       8.809800   \n",
       "min        0.000000       6.000000       0.000000       0.000000   \n",
       "25%        4.800000      31.000000       7.000000      13.000000   \n",
       "50%        8.400000      39.000000      13.000000      19.000000   \n",
       "75%       10.600000      48.000000      19.000000      24.000000   \n",
       "max       14.500000     135.000000     130.000000      87.000000   \n",
       "\n",
       "         Humidity9am    Humidity3pm   Pressure9am    Pressure3pm  \\\n",
       "count  142806.000000  140953.000000  130395.00000  130432.000000   \n",
       "mean       68.880831      51.539116    1017.64994    1015.255889   \n",
       "std        19.029164      20.795902       7.10653       7.037414   \n",
       "min         0.000000       0.000000     980.50000     977.100000   \n",
       "25%        57.000000      37.000000    1012.90000    1010.400000   \n",
       "50%        70.000000      52.000000    1017.60000    1015.200000   \n",
       "75%        83.000000      66.000000    1022.40000    1020.000000   \n",
       "max       100.000000     100.000000    1041.00000    1039.600000   \n",
       "\n",
       "           Cloud9am      Cloud3pm        Temp9am       Temp3pm  \n",
       "count  89572.000000  86102.000000  143693.000000  141851.00000  \n",
       "mean       4.447461      4.509930      16.990631      21.68339  \n",
       "std        2.887159      2.720357       6.488753       6.93665  \n",
       "min        0.000000      0.000000      -7.200000      -5.40000  \n",
       "25%        1.000000      2.000000      12.300000      16.60000  \n",
       "50%        5.000000      5.000000      16.700000      21.10000  \n",
       "75%        7.000000      7.000000      21.600000      26.40000  \n",
       "max        9.000000      9.000000      40.200000      46.70000  "
      ]
     },
     "execution_count": 8,
     "metadata": {},
     "output_type": "execute_result"
    }
   ],
   "source": [
    "df.describe()"
   ]
  },
  {
   "cell_type": "markdown",
   "id": "1ec544cc",
   "metadata": {
    "papermill": {
     "duration": 0.014236,
     "end_time": "2022-08-15T16:11:51.372348",
     "exception": false,
     "start_time": "2022-08-15T16:11:51.358112",
     "status": "completed"
    },
    "tags": []
   },
   "source": [
    "# The **nunique()** method returns the number of unique values for each column."
   ]
  },
  {
   "cell_type": "code",
   "execution_count": 9,
   "id": "c9e1583e",
   "metadata": {
    "execution": {
     "iopub.execute_input": "2022-08-15T16:11:51.403202Z",
     "iopub.status.busy": "2022-08-15T16:11:51.402826Z",
     "iopub.status.idle": "2022-08-15T16:11:51.497692Z",
     "shell.execute_reply": "2022-08-15T16:11:51.496619Z"
    },
    "papermill": {
     "duration": 0.113149,
     "end_time": "2022-08-15T16:11:51.500066",
     "exception": false,
     "start_time": "2022-08-15T16:11:51.386917",
     "status": "completed"
    },
    "tags": []
   },
   "outputs": [
    {
     "data": {
      "text/plain": [
       "Date             3436\n",
       "Location           49\n",
       "MinTemp           389\n",
       "MaxTemp           505\n",
       "Rainfall          681\n",
       "Evaporation       358\n",
       "Sunshine          145\n",
       "WindGustDir        16\n",
       "WindGustSpeed      67\n",
       "WindDir9am         16\n",
       "WindDir3pm         16\n",
       "WindSpeed9am       43\n",
       "WindSpeed3pm       44\n",
       "Humidity9am       101\n",
       "Humidity3pm       101\n",
       "Pressure9am       546\n",
       "Pressure3pm       549\n",
       "Cloud9am           10\n",
       "Cloud3pm           10\n",
       "Temp9am           441\n",
       "Temp3pm           502\n",
       "RainToday           2\n",
       "RainTomorrow        2\n",
       "dtype: int64"
      ]
     },
     "execution_count": 9,
     "metadata": {},
     "output_type": "execute_result"
    }
   ],
   "source": [
    "df.nunique()"
   ]
  },
  {
   "cell_type": "code",
   "execution_count": 10,
   "id": "50078674",
   "metadata": {
    "execution": {
     "iopub.execute_input": "2022-08-15T16:11:51.531218Z",
     "iopub.status.busy": "2022-08-15T16:11:51.530818Z",
     "iopub.status.idle": "2022-08-15T16:11:51.548477Z",
     "shell.execute_reply": "2022-08-15T16:11:51.547361Z"
    },
    "papermill": {
     "duration": 0.035978,
     "end_time": "2022-08-15T16:11:51.550773",
     "exception": false,
     "start_time": "2022-08-15T16:11:51.514795",
     "status": "completed"
    },
    "tags": []
   },
   "outputs": [
    {
     "data": {
      "text/plain": [
       "No     110316\n",
       "Yes     31877\n",
       "Name: RainTomorrow, dtype: int64"
      ]
     },
     "execution_count": 10,
     "metadata": {},
     "output_type": "execute_result"
    }
   ],
   "source": [
    "#target count\n",
    "df.RainTomorrow.value_counts()"
   ]
  },
  {
   "cell_type": "markdown",
   "id": "407c3a56",
   "metadata": {
    "papermill": {
     "duration": 0.015378,
     "end_time": "2022-08-15T16:11:51.582071",
     "exception": false,
     "start_time": "2022-08-15T16:11:51.566693",
     "status": "completed"
    },
    "tags": []
   },
   "source": [
    "### Visualization Analysis"
   ]
  },
  {
   "cell_type": "code",
   "execution_count": 11,
   "id": "abb344b7",
   "metadata": {
    "execution": {
     "iopub.execute_input": "2022-08-15T16:11:51.614617Z",
     "iopub.status.busy": "2022-08-15T16:11:51.614168Z",
     "iopub.status.idle": "2022-08-15T16:11:51.869855Z",
     "shell.execute_reply": "2022-08-15T16:11:51.868601Z"
    },
    "papermill": {
     "duration": 0.274624,
     "end_time": "2022-08-15T16:11:51.872128",
     "exception": false,
     "start_time": "2022-08-15T16:11:51.597504",
     "status": "completed"
    },
    "tags": []
   },
   "outputs": [
    {
     "data": {
      "image/png": "[encoded data removed]",
      "text/plain": [
       "<Figure size 720x360 with 1 Axes>"
      ]
     },
     "metadata": {
      "needs_background": "light"
     },
     "output_type": "display_data"
    }
   ],
   "source": [
    "plt.figure(figsize=(10,5))\n",
    "sns.set_style(\"darkgrid\")\n",
    "plt.title('RainTomorrow graphical representation')\n",
    "sns.countplot(x=df[\"RainTomorrow\"]);"
   ]
  },
  {
   "cell_type": "markdown",
   "id": "01ffc1d5",
   "metadata": {
    "papermill": {
     "duration": 0.014757,
     "end_time": "2022-08-15T16:11:51.902207",
     "exception": false,
     "start_time": "2022-08-15T16:11:51.887450",
     "status": "completed"
    },
    "tags": []
   },
   "source": [
    "### Multivariate"
   ]
  },
  {
   "cell_type": "markdown",
   "id": "abab7bfc",
   "metadata": {
    "papermill": {
     "duration": 0.014783,
     "end_time": "2022-08-15T16:11:51.932803",
     "exception": false,
     "start_time": "2022-08-15T16:11:51.918020",
     "status": "completed"
    },
    "tags": []
   },
   "source": [
    "# Preprocessing\n",
    "\n"
   ]
  },
  {
   "cell_type": "code",
   "execution_count": 12,
   "id": "34629067",
   "metadata": {
    "execution": {
     "iopub.execute_input": "2022-08-15T16:11:51.964765Z",
     "iopub.status.busy": "2022-08-15T16:11:51.964385Z",
     "iopub.status.idle": "2022-08-15T16:11:51.987940Z",
     "shell.execute_reply": "2022-08-15T16:11:51.986828Z"
    },
    "papermill": {
     "duration": 0.042887,
     "end_time": "2022-08-15T16:11:51.990761",
     "exception": false,
     "start_time": "2022-08-15T16:11:51.947874",
     "status": "completed"
    },
    "tags": []
   },
   "outputs": [],
   "source": [
    "df_preprocessed = df.copy()"
   ]
  },
  {
   "cell_type": "code",
   "execution_count": 13,
   "id": "07321f10",
   "metadata": {
    "execution": {
     "iopub.execute_input": "2022-08-15T16:11:52.023178Z",
     "iopub.status.busy": "2022-08-15T16:11:52.022797Z",
     "iopub.status.idle": "2022-08-15T16:11:52.079251Z",
     "shell.execute_reply": "2022-08-15T16:11:52.078108Z"
    },
    "papermill": {
     "duration": 0.075305,
     "end_time": "2022-08-15T16:11:52.081491",
     "exception": false,
     "start_time": "2022-08-15T16:11:52.006186",
     "status": "completed"
    },
    "tags": []
   },
   "outputs": [
    {
     "data": {
      "text/plain": [
       "Date              0.000000\n",
       "Location          0.000000\n",
       "MinTemp           1.020899\n",
       "MaxTemp           0.866905\n",
       "Rainfall          2.241853\n",
       "Evaporation      43.166506\n",
       "Sunshine         48.009762\n",
       "WindGustDir       7.098859\n",
       "WindGustSpeed     7.055548\n",
       "WindDir9am        7.263853\n",
       "WindDir3pm        2.906641\n",
       "WindSpeed9am      1.214767\n",
       "WindSpeed3pm      2.105046\n",
       "Humidity9am       1.824557\n",
       "Humidity3pm       3.098446\n",
       "Pressure9am      10.356799\n",
       "Pressure3pm      10.331363\n",
       "Cloud9am         38.421559\n",
       "Cloud3pm         40.807095\n",
       "Temp9am           1.214767\n",
       "Temp3pm           2.481094\n",
       "RainToday         2.241853\n",
       "RainTomorrow      2.245978\n",
       "dtype: float64"
      ]
     },
     "execution_count": 13,
     "metadata": {},
     "output_type": "execute_result"
    }
   ],
   "source": [
    "df_preprocessed.isnull().mean() * 100"
   ]
  },
  {
   "cell_type": "code",
   "execution_count": 14,
   "id": "3f5aaf9f",
   "metadata": {
    "execution": {
     "iopub.execute_input": "2022-08-15T16:11:52.115446Z",
     "iopub.status.busy": "2022-08-15T16:11:52.114855Z",
     "iopub.status.idle": "2022-08-15T16:11:52.517777Z",
     "shell.execute_reply": "2022-08-15T16:11:52.516791Z"
    },
    "papermill": {
     "duration": 0.422982,
     "end_time": "2022-08-15T16:11:52.520729",
     "exception": false,
     "start_time": "2022-08-15T16:11:52.097747",
     "status": "completed"
    },
    "tags": []
   },
   "outputs": [
    {
     "data": {
      "text/plain": [
       "Date             0\n",
       "Location         0\n",
       "MinTemp          0\n",
       "MaxTemp          0\n",
       "Rainfall         0\n",
       "Evaporation      0\n",
       "Sunshine         0\n",
       "WindGustDir      0\n",
       "WindGustSpeed    0\n",
       "WindDir9am       0\n",
       "WindDir3pm       0\n",
       "WindSpeed9am     0\n",
       "WindSpeed3pm     0\n",
       "Humidity9am      0\n",
       "Humidity3pm      0\n",
       "Pressure9am      0\n",
       "Pressure3pm      0\n",
       "Cloud9am         0\n",
       "Cloud3pm         0\n",
       "Temp9am          0\n",
       "Temp3pm          0\n",
       "RainToday        0\n",
       "RainTomorrow     0\n",
       "dtype: int64"
      ]
     },
     "execution_count": 14,
     "metadata": {},
     "output_type": "execute_result"
    }
   ],
   "source": [
    "df_preprocessed.replace(np.nan, 'NaN', inplace=True)\n",
    "df_preprocessed.isna().sum()"
   ]
  },
  {
   "cell_type": "code",
   "execution_count": 15,
   "id": "eaf93e08",
   "metadata": {
    "execution": {
     "iopub.execute_input": "2022-08-15T16:11:52.554667Z",
     "iopub.status.busy": "2022-08-15T16:11:52.554251Z",
     "iopub.status.idle": "2022-08-15T16:11:52.580502Z",
     "shell.execute_reply": "2022-08-15T16:11:52.579543Z"
    },
    "papermill": {
     "duration": 0.046611,
     "end_time": "2022-08-15T16:11:52.583472",
     "exception": false,
     "start_time": "2022-08-15T16:11:52.536861",
     "status": "completed"
    },
    "tags": []
   },
   "outputs": [
    {
     "data": {
      "text/html": [
       "<div>\n",
       "<style scoped>\n",
       "    .dataframe tbody tr th:only-of-type {\n",
       "        vertical-align: middle;\n",
       "    }\n",
       "\n",
       "    .dataframe tbody tr th {\n",
       "        vertical-align: top;\n",
       "    }\n",
       "\n",
       "    .dataframe thead th {\n",
       "        text-align: right;\n",
       "    }\n",
       "</style>\n",
       "<table border=\"1\" class=\"dataframe\">\n",
       "  <thead>\n",
       "    <tr style=\"text-align: right;\">\n",
       "      <th></th>\n",
       "      <th>Date</th>\n",
       "      <th>Location</th>\n",
       "      <th>MinTemp</th>\n",
       "      <th>MaxTemp</th>\n",
       "      <th>Rainfall</th>\n",
       "      <th>Evaporation</th>\n",
       "      <th>Sunshine</th>\n",
       "      <th>WindGustDir</th>\n",
       "      <th>WindGustSpeed</th>\n",
       "      <th>WindDir9am</th>\n",
       "      <th>...</th>\n",
       "      <th>Humidity9am</th>\n",
       "      <th>Humidity3pm</th>\n",
       "      <th>Pressure9am</th>\n",
       "      <th>Pressure3pm</th>\n",
       "      <th>Cloud9am</th>\n",
       "      <th>Cloud3pm</th>\n",
       "      <th>Temp9am</th>\n",
       "      <th>Temp3pm</th>\n",
       "      <th>RainToday</th>\n",
       "      <th>RainTomorrow</th>\n",
       "    </tr>\n",
       "  </thead>\n",
       "  <tbody>\n",
       "    <tr>\n",
       "      <th>0</th>\n",
       "      <td>2008-12-01</td>\n",
       "      <td>Albury</td>\n",
       "      <td>13.4</td>\n",
       "      <td>22.9</td>\n",
       "      <td>0.6</td>\n",
       "      <td>NaN</td>\n",
       "      <td>NaN</td>\n",
       "      <td>W</td>\n",
       "      <td>44.0</td>\n",
       "      <td>W</td>\n",
       "      <td>...</td>\n",
       "      <td>71.0</td>\n",
       "      <td>22.0</td>\n",
       "      <td>1007.7</td>\n",
       "      <td>1007.1</td>\n",
       "      <td>8.0</td>\n",
       "      <td>NaN</td>\n",
       "      <td>16.9</td>\n",
       "      <td>21.8</td>\n",
       "      <td>No</td>\n",
       "      <td>No</td>\n",
       "    </tr>\n",
       "    <tr>\n",
       "      <th>1</th>\n",
       "      <td>2008-12-02</td>\n",
       "      <td>Albury</td>\n",
       "      <td>7.4</td>\n",
       "      <td>25.1</td>\n",
       "      <td>0.0</td>\n",
       "      <td>NaN</td>\n",
       "      <td>NaN</td>\n",
       "      <td>WNW</td>\n",
       "      <td>44.0</td>\n",
       "      <td>NNW</td>\n",
       "      <td>...</td>\n",
       "      <td>44.0</td>\n",
       "      <td>25.0</td>\n",
       "      <td>1010.6</td>\n",
       "      <td>1007.8</td>\n",
       "      <td>NaN</td>\n",
       "      <td>NaN</td>\n",
       "      <td>17.2</td>\n",
       "      <td>24.3</td>\n",
       "      <td>No</td>\n",
       "      <td>No</td>\n",
       "    </tr>\n",
       "    <tr>\n",
       "      <th>2</th>\n",
       "      <td>2008-12-03</td>\n",
       "      <td>Albury</td>\n",
       "      <td>12.9</td>\n",
       "      <td>25.7</td>\n",
       "      <td>0.0</td>\n",
       "      <td>NaN</td>\n",
       "      <td>NaN</td>\n",
       "      <td>WSW</td>\n",
       "      <td>46.0</td>\n",
       "      <td>W</td>\n",
       "      <td>...</td>\n",
       "      <td>38.0</td>\n",
       "      <td>30.0</td>\n",
       "      <td>1007.6</td>\n",
       "      <td>1008.7</td>\n",
       "      <td>NaN</td>\n",
       "      <td>2.0</td>\n",
       "      <td>21.0</td>\n",
       "      <td>23.2</td>\n",
       "      <td>No</td>\n",
       "      <td>No</td>\n",
       "    </tr>\n",
       "    <tr>\n",
       "      <th>3</th>\n",
       "      <td>2008-12-04</td>\n",
       "      <td>Albury</td>\n",
       "      <td>9.2</td>\n",
       "      <td>28.0</td>\n",
       "      <td>0.0</td>\n",
       "      <td>NaN</td>\n",
       "      <td>NaN</td>\n",
       "      <td>NE</td>\n",
       "      <td>24.0</td>\n",
       "      <td>SE</td>\n",
       "      <td>...</td>\n",
       "      <td>45.0</td>\n",
       "      <td>16.0</td>\n",
       "      <td>1017.6</td>\n",
       "      <td>1012.8</td>\n",
       "      <td>NaN</td>\n",
       "      <td>NaN</td>\n",
       "      <td>18.1</td>\n",
       "      <td>26.5</td>\n",
       "      <td>No</td>\n",
       "      <td>No</td>\n",
       "    </tr>\n",
       "    <tr>\n",
       "      <th>4</th>\n",
       "      <td>2008-12-05</td>\n",
       "      <td>Albury</td>\n",
       "      <td>17.5</td>\n",
       "      <td>32.3</td>\n",
       "      <td>1.0</td>\n",
       "      <td>NaN</td>\n",
       "      <td>NaN</td>\n",
       "      <td>W</td>\n",
       "      <td>41.0</td>\n",
       "      <td>ENE</td>\n",
       "      <td>...</td>\n",
       "      <td>82.0</td>\n",
       "      <td>33.0</td>\n",
       "      <td>1010.8</td>\n",
       "      <td>1006.0</td>\n",
       "      <td>7.0</td>\n",
       "      <td>8.0</td>\n",
       "      <td>17.8</td>\n",
       "      <td>29.7</td>\n",
       "      <td>No</td>\n",
       "      <td>No</td>\n",
       "    </tr>\n",
       "  </tbody>\n",
       "</table>\n",
       "<p>5 rows × 23 columns</p>\n",
       "</div>"
      ],
      "text/plain": [
       "         Date Location MinTemp MaxTemp Rainfall Evaporation Sunshine  \\\n",
       "0  2008-12-01   Albury    13.4    22.9      0.6         NaN      NaN   \n",
       "1  2008-12-02   Albury     7.4    25.1      0.0         NaN      NaN   \n",
       "2  2008-12-03   Albury    12.9    25.7      0.0         NaN      NaN   \n",
       "3  2008-12-04   Albury     9.2    28.0      0.0         NaN      NaN   \n",
       "4  2008-12-05   Albury    17.5    32.3      1.0         NaN      NaN   \n",
       "\n",
       "  WindGustDir WindGustSpeed WindDir9am  ... Humidity9am Humidity3pm  \\\n",
       "0           W          44.0          W  ...        71.0        22.0   \n",
       "1         WNW          44.0        NNW  ...        44.0        25.0   \n",
       "2         WSW          46.0          W  ...        38.0        30.0   \n",
       "3          NE          24.0         SE  ...        45.0        16.0   \n",
       "4           W          41.0        ENE  ...        82.0        33.0   \n",
       "\n",
       "  Pressure9am Pressure3pm Cloud9am Cloud3pm Temp9am Temp3pm RainToday  \\\n",
       "0      1007.7      1007.1      8.0      NaN    16.9    21.8        No   \n",
       "1      1010.6      1007.8      NaN      NaN    17.2    24.3        No   \n",
       "2      1007.6      1008.7      NaN      2.0    21.0    23.2        No   \n",
       "3      1017.6      1012.8      NaN      NaN    18.1    26.5        No   \n",
       "4      1010.8      1006.0      7.0      8.0    17.8    29.7        No   \n",
       "\n",
       "  RainTomorrow  \n",
       "0           No  \n",
       "1           No  \n",
       "2           No  \n",
       "3           No  \n",
       "4           No  \n",
       "\n",
       "[5 rows x 23 columns]"
      ]
     },
     "execution_count": 15,
     "metadata": {},
     "output_type": "execute_result"
    }
   ],
   "source": [
    "df_preprocessed.head()"
   ]
  },
  {
   "cell_type": "code",
   "execution_count": 16,
   "id": "35325c41",
   "metadata": {
    "execution": {
     "iopub.execute_input": "2022-08-15T16:11:52.617166Z",
     "iopub.status.busy": "2022-08-15T16:11:52.616463Z",
     "iopub.status.idle": "2022-08-15T16:11:52.645153Z",
     "shell.execute_reply": "2022-08-15T16:11:52.644317Z"
    },
    "papermill": {
     "duration": 0.048414,
     "end_time": "2022-08-15T16:11:52.647780",
     "exception": false,
     "start_time": "2022-08-15T16:11:52.599366",
     "status": "completed"
    },
    "tags": []
   },
   "outputs": [],
   "source": [
    "df_preprocessed['Date'] = pd.to_datetime(df_preprocessed['Date'])"
   ]
  },
  {
   "cell_type": "code",
   "execution_count": 17,
   "id": "5f4fe582",
   "metadata": {
    "execution": {
     "iopub.execute_input": "2022-08-15T16:11:52.683453Z",
     "iopub.status.busy": "2022-08-15T16:11:52.682507Z",
     "iopub.status.idle": "2022-08-15T16:11:52.866593Z",
     "shell.execute_reply": "2022-08-15T16:11:52.865698Z"
    },
    "papermill": {
     "duration": 0.204344,
     "end_time": "2022-08-15T16:11:52.869251",
     "exception": false,
     "start_time": "2022-08-15T16:11:52.664907",
     "status": "completed"
    },
    "tags": []
   },
   "outputs": [],
   "source": [
    "#columns segregation\n",
    "date_columns = ['Date']\n",
    "cat_columns = df_preprocessed.select_dtypes(include=['object']).columns\n",
    "num_columns = df_preprocessed.select_dtypes(include=['float64', 'int64']).columns\n",
    "target_col = 'RainTomorrow'"
   ]
  },
  {
   "cell_type": "markdown",
   "id": "02210a28",
   "metadata": {
    "papermill": {
     "duration": 0.015367,
     "end_time": "2022-08-15T16:11:52.900420",
     "exception": false,
     "start_time": "2022-08-15T16:11:52.885053",
     "status": "completed"
    },
    "tags": []
   },
   "source": [
    "# Encoding the categorical variables"
   ]
  },
  {
   "cell_type": "markdown",
   "id": "875254c6",
   "metadata": {
    "papermill": {
     "duration": 0.015249,
     "end_time": "2022-08-15T16:11:52.931229",
     "exception": false,
     "start_time": "2022-08-15T16:11:52.915980",
     "status": "completed"
    },
    "tags": []
   },
   "source": [
    "# Categorical variables can take on only a limited, and usually fixed number of possible values. \n",
    "# Besides the fixed length, categorical data might have an order but cannot perform numerical operation. \n",
    "# Categorical are a Pandas data type."
   ]
  },
  {
   "cell_type": "code",
   "execution_count": 18,
   "id": "1a1ad8e2",
   "metadata": {
    "execution": {
     "iopub.execute_input": "2022-08-15T16:11:52.964814Z",
     "iopub.status.busy": "2022-08-15T16:11:52.964224Z",
     "iopub.status.idle": "2022-08-15T16:11:52.990316Z",
     "shell.execute_reply": "2022-08-15T16:11:52.989318Z"
    },
    "papermill": {
     "duration": 0.045518,
     "end_time": "2022-08-15T16:11:52.992665",
     "exception": false,
     "start_time": "2022-08-15T16:11:52.947147",
     "status": "completed"
    },
    "tags": []
   },
   "outputs": [
    {
     "data": {
      "text/html": [
       "<div>\n",
       "<style scoped>\n",
       "    .dataframe tbody tr th:only-of-type {\n",
       "        vertical-align: middle;\n",
       "    }\n",
       "\n",
       "    .dataframe tbody tr th {\n",
       "        vertical-align: top;\n",
       "    }\n",
       "\n",
       "    .dataframe thead th {\n",
       "        text-align: right;\n",
       "    }\n",
       "</style>\n",
       "<table border=\"1\" class=\"dataframe\">\n",
       "  <thead>\n",
       "    <tr style=\"text-align: right;\">\n",
       "      <th></th>\n",
       "      <th>Date</th>\n",
       "      <th>Location</th>\n",
       "      <th>MinTemp</th>\n",
       "      <th>MaxTemp</th>\n",
       "      <th>Rainfall</th>\n",
       "      <th>Evaporation</th>\n",
       "      <th>Sunshine</th>\n",
       "      <th>WindGustDir</th>\n",
       "      <th>WindGustSpeed</th>\n",
       "      <th>WindDir9am</th>\n",
       "      <th>...</th>\n",
       "      <th>Humidity9am</th>\n",
       "      <th>Humidity3pm</th>\n",
       "      <th>Pressure9am</th>\n",
       "      <th>Pressure3pm</th>\n",
       "      <th>Cloud9am</th>\n",
       "      <th>Cloud3pm</th>\n",
       "      <th>Temp9am</th>\n",
       "      <th>Temp3pm</th>\n",
       "      <th>RainToday</th>\n",
       "      <th>RainTomorrow</th>\n",
       "    </tr>\n",
       "  </thead>\n",
       "  <tbody>\n",
       "    <tr>\n",
       "      <th>0</th>\n",
       "      <td>2008-12-01</td>\n",
       "      <td>Albury</td>\n",
       "      <td>13.4</td>\n",
       "      <td>22.9</td>\n",
       "      <td>0.6</td>\n",
       "      <td>NaN</td>\n",
       "      <td>NaN</td>\n",
       "      <td>W</td>\n",
       "      <td>44.0</td>\n",
       "      <td>W</td>\n",
       "      <td>...</td>\n",
       "      <td>71.0</td>\n",
       "      <td>22.0</td>\n",
       "      <td>1007.7</td>\n",
       "      <td>1007.1</td>\n",
       "      <td>8.0</td>\n",
       "      <td>NaN</td>\n",
       "      <td>16.9</td>\n",
       "      <td>21.8</td>\n",
       "      <td>No</td>\n",
       "      <td>No</td>\n",
       "    </tr>\n",
       "    <tr>\n",
       "      <th>1</th>\n",
       "      <td>2008-12-02</td>\n",
       "      <td>Albury</td>\n",
       "      <td>7.4</td>\n",
       "      <td>25.1</td>\n",
       "      <td>0.0</td>\n",
       "      <td>NaN</td>\n",
       "      <td>NaN</td>\n",
       "      <td>WNW</td>\n",
       "      <td>44.0</td>\n",
       "      <td>NNW</td>\n",
       "      <td>...</td>\n",
       "      <td>44.0</td>\n",
       "      <td>25.0</td>\n",
       "      <td>1010.6</td>\n",
       "      <td>1007.8</td>\n",
       "      <td>NaN</td>\n",
       "      <td>NaN</td>\n",
       "      <td>17.2</td>\n",
       "      <td>24.3</td>\n",
       "      <td>No</td>\n",
       "      <td>No</td>\n",
       "    </tr>\n",
       "    <tr>\n",
       "      <th>2</th>\n",
       "      <td>2008-12-03</td>\n",
       "      <td>Albury</td>\n",
       "      <td>12.9</td>\n",
       "      <td>25.7</td>\n",
       "      <td>0.0</td>\n",
       "      <td>NaN</td>\n",
       "      <td>NaN</td>\n",
       "      <td>WSW</td>\n",
       "      <td>46.0</td>\n",
       "      <td>W</td>\n",
       "      <td>...</td>\n",
       "      <td>38.0</td>\n",
       "      <td>30.0</td>\n",
       "      <td>1007.6</td>\n",
       "      <td>1008.7</td>\n",
       "      <td>NaN</td>\n",
       "      <td>2.0</td>\n",
       "      <td>21.0</td>\n",
       "      <td>23.2</td>\n",
       "      <td>No</td>\n",
       "      <td>No</td>\n",
       "    </tr>\n",
       "    <tr>\n",
       "      <th>3</th>\n",
       "      <td>2008-12-04</td>\n",
       "      <td>Albury</td>\n",
       "      <td>9.2</td>\n",
       "      <td>28.0</td>\n",
       "      <td>0.0</td>\n",
       "      <td>NaN</td>\n",
       "      <td>NaN</td>\n",
       "      <td>NE</td>\n",
       "      <td>24.0</td>\n",
       "      <td>SE</td>\n",
       "      <td>...</td>\n",
       "      <td>45.0</td>\n",
       "      <td>16.0</td>\n",
       "      <td>1017.6</td>\n",
       "      <td>1012.8</td>\n",
       "      <td>NaN</td>\n",
       "      <td>NaN</td>\n",
       "      <td>18.1</td>\n",
       "      <td>26.5</td>\n",
       "      <td>No</td>\n",
       "      <td>No</td>\n",
       "    </tr>\n",
       "    <tr>\n",
       "      <th>4</th>\n",
       "      <td>2008-12-05</td>\n",
       "      <td>Albury</td>\n",
       "      <td>17.5</td>\n",
       "      <td>32.3</td>\n",
       "      <td>1.0</td>\n",
       "      <td>NaN</td>\n",
       "      <td>NaN</td>\n",
       "      <td>W</td>\n",
       "      <td>41.0</td>\n",
       "      <td>ENE</td>\n",
       "      <td>...</td>\n",
       "      <td>82.0</td>\n",
       "      <td>33.0</td>\n",
       "      <td>1010.8</td>\n",
       "      <td>1006.0</td>\n",
       "      <td>7.0</td>\n",
       "      <td>8.0</td>\n",
       "      <td>17.8</td>\n",
       "      <td>29.7</td>\n",
       "      <td>No</td>\n",
       "      <td>No</td>\n",
       "    </tr>\n",
       "  </tbody>\n",
       "</table>\n",
       "<p>5 rows × 23 columns</p>\n",
       "</div>"
      ],
      "text/plain": [
       "        Date Location MinTemp MaxTemp Rainfall Evaporation Sunshine  \\\n",
       "0 2008-12-01   Albury    13.4    22.9      0.6         NaN      NaN   \n",
       "1 2008-12-02   Albury     7.4    25.1      0.0         NaN      NaN   \n",
       "2 2008-12-03   Albury    12.9    25.7      0.0         NaN      NaN   \n",
       "3 2008-12-04   Albury     9.2    28.0      0.0         NaN      NaN   \n",
       "4 2008-12-05   Albury    17.5    32.3      1.0         NaN      NaN   \n",
       "\n",
       "  WindGustDir WindGustSpeed WindDir9am  ... Humidity9am Humidity3pm  \\\n",
       "0           W          44.0          W  ...        71.0        22.0   \n",
       "1         WNW          44.0        NNW  ...        44.0        25.0   \n",
       "2         WSW          46.0          W  ...        38.0        30.0   \n",
       "3          NE          24.0         SE  ...        45.0        16.0   \n",
       "4           W          41.0        ENE  ...        82.0        33.0   \n",
       "\n",
       "  Pressure9am Pressure3pm Cloud9am Cloud3pm Temp9am Temp3pm RainToday  \\\n",
       "0      1007.7      1007.1      8.0      NaN    16.9    21.8        No   \n",
       "1      1010.6      1007.8      NaN      NaN    17.2    24.3        No   \n",
       "2      1007.6      1008.7      NaN      2.0    21.0    23.2        No   \n",
       "3      1017.6      1012.8      NaN      NaN    18.1    26.5        No   \n",
       "4      1010.8      1006.0      7.0      8.0    17.8    29.7        No   \n",
       "\n",
       "  RainTomorrow  \n",
       "0           No  \n",
       "1           No  \n",
       "2           No  \n",
       "3           No  \n",
       "4           No  \n",
       "\n",
       "[5 rows x 23 columns]"
      ]
     },
     "execution_count": 18,
     "metadata": {},
     "output_type": "execute_result"
    }
   ],
   "source": [
    "df_preprocessed.head()"
   ]
  },
  {
   "cell_type": "code",
   "execution_count": 19,
   "id": "f6fc75c6",
   "metadata": {
    "execution": {
     "iopub.execute_input": "2022-08-15T16:11:53.027324Z",
     "iopub.status.busy": "2022-08-15T16:11:53.026611Z",
     "iopub.status.idle": "2022-08-15T16:11:53.033677Z",
     "shell.execute_reply": "2022-08-15T16:11:53.032625Z"
    },
    "papermill": {
     "duration": 0.027091,
     "end_time": "2022-08-15T16:11:53.035978",
     "exception": false,
     "start_time": "2022-08-15T16:11:53.008887",
     "status": "completed"
    },
    "tags": []
   },
   "outputs": [
    {
     "data": {
      "text/plain": [
       "Index(['Location', 'MinTemp', 'MaxTemp', 'Rainfall', 'Evaporation', 'Sunshine',\n",
       "       'WindGustDir', 'WindGustSpeed', 'WindDir9am', 'WindDir3pm',\n",
       "       'WindSpeed9am', 'WindSpeed3pm', 'Humidity9am', 'Humidity3pm',\n",
       "       'Pressure9am', 'Pressure3pm', 'Cloud9am', 'Cloud3pm', 'Temp9am',\n",
       "       'Temp3pm', 'RainToday', 'RainTomorrow'],\n",
       "      dtype='object')"
      ]
     },
     "execution_count": 19,
     "metadata": {},
     "output_type": "execute_result"
    }
   ],
   "source": [
    "cat_columns"
   ]
  },
  {
   "cell_type": "code",
   "execution_count": 20,
   "id": "b5e81f33",
   "metadata": {
    "execution": {
     "iopub.execute_input": "2022-08-15T16:11:53.070084Z",
     "iopub.status.busy": "2022-08-15T16:11:53.069704Z",
     "iopub.status.idle": "2022-08-15T16:11:53.319900Z",
     "shell.execute_reply": "2022-08-15T16:11:53.318831Z"
    },
    "papermill": {
     "duration": 0.27017,
     "end_time": "2022-08-15T16:11:53.322435",
     "exception": false,
     "start_time": "2022-08-15T16:11:53.052265",
     "status": "completed"
    },
    "tags": []
   },
   "outputs": [
    {
     "name": "stdout",
     "output_type": "stream",
     "text": [
      "Unique Values in Location Column: 49\n",
      "-----------------------------------------------------\n",
      "Unique Values in MinTemp Column: 390\n",
      "-----------------------------------------------------\n",
      "Unique Values in MaxTemp Column: 506\n",
      "-----------------------------------------------------\n",
      "Unique Values in Rainfall Column: 682\n",
      "-----------------------------------------------------\n",
      "Unique Values in Evaporation Column: 359\n",
      "-----------------------------------------------------\n",
      "Unique Values in Sunshine Column: 146\n",
      "-----------------------------------------------------\n",
      "Unique Values in WindGustDir Column: 17\n",
      "-----------------------------------------------------\n",
      "Unique Values in WindGustSpeed Column: 68\n",
      "-----------------------------------------------------\n",
      "Unique Values in WindDir9am Column: 17\n",
      "-----------------------------------------------------\n",
      "Unique Values in WindDir3pm Column: 17\n",
      "-----------------------------------------------------\n",
      "Unique Values in WindSpeed9am Column: 44\n",
      "-----------------------------------------------------\n",
      "Unique Values in WindSpeed3pm Column: 45\n",
      "-----------------------------------------------------\n",
      "Unique Values in Humidity9am Column: 102\n",
      "-----------------------------------------------------\n",
      "Unique Values in Humidity3pm Column: 102\n",
      "-----------------------------------------------------\n",
      "Unique Values in Pressure9am Column: 547\n",
      "-----------------------------------------------------\n",
      "Unique Values in Pressure3pm Column: 550\n",
      "-----------------------------------------------------\n",
      "Unique Values in Cloud9am Column: 11\n",
      "-----------------------------------------------------\n",
      "Unique Values in Cloud3pm Column: 11\n",
      "-----------------------------------------------------\n",
      "Unique Values in Temp9am Column: 442\n",
      "-----------------------------------------------------\n",
      "Unique Values in Temp3pm Column: 503\n",
      "-----------------------------------------------------\n",
      "Unique Values in RainToday Column: 3\n",
      "-----------------------------------------------------\n",
      "Unique Values in RainTomorrow Column: 3\n",
      "-----------------------------------------------------\n"
     ]
    }
   ],
   "source": [
    "for i in cat_columns:\n",
    "    print('Unique Values in ' + i + ' Column:', end = \" \")\n",
    "    print(len(df_preprocessed[i].unique()))\n",
    "    print('-----------------------------------------------------')"
   ]
  },
  {
   "cell_type": "code",
   "execution_count": 21,
   "id": "dc6c995b",
   "metadata": {
    "execution": {
     "iopub.execute_input": "2022-08-15T16:11:53.357836Z",
     "iopub.status.busy": "2022-08-15T16:11:53.357002Z",
     "iopub.status.idle": "2022-08-15T16:11:53.784471Z",
     "shell.execute_reply": "2022-08-15T16:11:53.783367Z"
    },
    "papermill": {
     "duration": 0.447885,
     "end_time": "2022-08-15T16:11:53.786998",
     "exception": false,
     "start_time": "2022-08-15T16:11:53.339113",
     "status": "completed"
    },
    "tags": []
   },
   "outputs": [
    {
     "data": {
      "text/html": [
       "<div>\n",
       "<style scoped>\n",
       "    .dataframe tbody tr th:only-of-type {\n",
       "        vertical-align: middle;\n",
       "    }\n",
       "\n",
       "    .dataframe tbody tr th {\n",
       "        vertical-align: top;\n",
       "    }\n",
       "\n",
       "    .dataframe thead th {\n",
       "        text-align: right;\n",
       "    }\n",
       "</style>\n",
       "<table border=\"1\" class=\"dataframe\">\n",
       "  <thead>\n",
       "    <tr style=\"text-align: right;\">\n",
       "      <th></th>\n",
       "      <th>Date</th>\n",
       "      <th>Location</th>\n",
       "      <th>MinTemp</th>\n",
       "      <th>MaxTemp</th>\n",
       "      <th>Rainfall</th>\n",
       "      <th>Evaporation</th>\n",
       "      <th>Sunshine</th>\n",
       "      <th>WindGustDir</th>\n",
       "      <th>WindGustSpeed</th>\n",
       "      <th>WindDir9am</th>\n",
       "      <th>...</th>\n",
       "      <th>Humidity9am</th>\n",
       "      <th>Humidity3pm</th>\n",
       "      <th>Pressure9am</th>\n",
       "      <th>Pressure3pm</th>\n",
       "      <th>Cloud9am</th>\n",
       "      <th>Cloud3pm</th>\n",
       "      <th>Temp9am</th>\n",
       "      <th>Temp3pm</th>\n",
       "      <th>RainToday</th>\n",
       "      <th>RainTomorrow</th>\n",
       "    </tr>\n",
       "  </thead>\n",
       "  <tbody>\n",
       "    <tr>\n",
       "      <th>0</th>\n",
       "      <td>2008-12-01</td>\n",
       "      <td>2</td>\n",
       "      <td>13.4</td>\n",
       "      <td>22.9</td>\n",
       "      <td>0.6</td>\n",
       "      <td>NaN</td>\n",
       "      <td>NaN</td>\n",
       "      <td>14</td>\n",
       "      <td>44.0</td>\n",
       "      <td>14</td>\n",
       "      <td>...</td>\n",
       "      <td>71.0</td>\n",
       "      <td>22.0</td>\n",
       "      <td>1007.7</td>\n",
       "      <td>1007.1</td>\n",
       "      <td>8.0</td>\n",
       "      <td>NaN</td>\n",
       "      <td>16.9</td>\n",
       "      <td>21.8</td>\n",
       "      <td>No</td>\n",
       "      <td>No</td>\n",
       "    </tr>\n",
       "    <tr>\n",
       "      <th>1</th>\n",
       "      <td>2008-12-02</td>\n",
       "      <td>2</td>\n",
       "      <td>7.4</td>\n",
       "      <td>25.1</td>\n",
       "      <td>0.0</td>\n",
       "      <td>NaN</td>\n",
       "      <td>NaN</td>\n",
       "      <td>15</td>\n",
       "      <td>44.0</td>\n",
       "      <td>6</td>\n",
       "      <td>...</td>\n",
       "      <td>44.0</td>\n",
       "      <td>25.0</td>\n",
       "      <td>1010.6</td>\n",
       "      <td>1007.8</td>\n",
       "      <td>NaN</td>\n",
       "      <td>NaN</td>\n",
       "      <td>17.2</td>\n",
       "      <td>24.3</td>\n",
       "      <td>No</td>\n",
       "      <td>No</td>\n",
       "    </tr>\n",
       "    <tr>\n",
       "      <th>2</th>\n",
       "      <td>2008-12-03</td>\n",
       "      <td>2</td>\n",
       "      <td>12.9</td>\n",
       "      <td>25.7</td>\n",
       "      <td>0.0</td>\n",
       "      <td>NaN</td>\n",
       "      <td>NaN</td>\n",
       "      <td>16</td>\n",
       "      <td>46.0</td>\n",
       "      <td>14</td>\n",
       "      <td>...</td>\n",
       "      <td>38.0</td>\n",
       "      <td>30.0</td>\n",
       "      <td>1007.6</td>\n",
       "      <td>1008.7</td>\n",
       "      <td>NaN</td>\n",
       "      <td>2.0</td>\n",
       "      <td>21.0</td>\n",
       "      <td>23.2</td>\n",
       "      <td>No</td>\n",
       "      <td>No</td>\n",
       "    </tr>\n",
       "    <tr>\n",
       "      <th>3</th>\n",
       "      <td>2008-12-04</td>\n",
       "      <td>2</td>\n",
       "      <td>9.2</td>\n",
       "      <td>28.0</td>\n",
       "      <td>0.0</td>\n",
       "      <td>NaN</td>\n",
       "      <td>NaN</td>\n",
       "      <td>4</td>\n",
       "      <td>24.0</td>\n",
       "      <td>10</td>\n",
       "      <td>...</td>\n",
       "      <td>45.0</td>\n",
       "      <td>16.0</td>\n",
       "      <td>1017.6</td>\n",
       "      <td>1012.8</td>\n",
       "      <td>NaN</td>\n",
       "      <td>NaN</td>\n",
       "      <td>18.1</td>\n",
       "      <td>26.5</td>\n",
       "      <td>No</td>\n",
       "      <td>No</td>\n",
       "    </tr>\n",
       "    <tr>\n",
       "      <th>4</th>\n",
       "      <td>2008-12-05</td>\n",
       "      <td>2</td>\n",
       "      <td>17.5</td>\n",
       "      <td>32.3</td>\n",
       "      <td>1.0</td>\n",
       "      <td>NaN</td>\n",
       "      <td>NaN</td>\n",
       "      <td>14</td>\n",
       "      <td>41.0</td>\n",
       "      <td>1</td>\n",
       "      <td>...</td>\n",
       "      <td>82.0</td>\n",
       "      <td>33.0</td>\n",
       "      <td>1010.8</td>\n",
       "      <td>1006.0</td>\n",
       "      <td>7.0</td>\n",
       "      <td>8.0</td>\n",
       "      <td>17.8</td>\n",
       "      <td>29.7</td>\n",
       "      <td>No</td>\n",
       "      <td>No</td>\n",
       "    </tr>\n",
       "  </tbody>\n",
       "</table>\n",
       "<p>5 rows × 23 columns</p>\n",
       "</div>"
      ],
      "text/plain": [
       "        Date  Location MinTemp MaxTemp Rainfall Evaporation Sunshine  \\\n",
       "0 2008-12-01         2    13.4    22.9      0.6         NaN      NaN   \n",
       "1 2008-12-02         2     7.4    25.1      0.0         NaN      NaN   \n",
       "2 2008-12-03         2    12.9    25.7      0.0         NaN      NaN   \n",
       "3 2008-12-04         2     9.2    28.0      0.0         NaN      NaN   \n",
       "4 2008-12-05         2    17.5    32.3      1.0         NaN      NaN   \n",
       "\n",
       "   WindGustDir WindGustSpeed  WindDir9am  ...  Humidity9am Humidity3pm  \\\n",
       "0           14          44.0          14  ...         71.0        22.0   \n",
       "1           15          44.0           6  ...         44.0        25.0   \n",
       "2           16          46.0          14  ...         38.0        30.0   \n",
       "3            4          24.0          10  ...         45.0        16.0   \n",
       "4           14          41.0           1  ...         82.0        33.0   \n",
       "\n",
       "  Pressure9am Pressure3pm Cloud9am Cloud3pm Temp9am Temp3pm RainToday  \\\n",
       "0      1007.7      1007.1      8.0      NaN    16.9    21.8        No   \n",
       "1      1010.6      1007.8      NaN      NaN    17.2    24.3        No   \n",
       "2      1007.6      1008.7      NaN      2.0    21.0    23.2        No   \n",
       "3      1017.6      1012.8      NaN      NaN    18.1    26.5        No   \n",
       "4      1010.8      1006.0      7.0      8.0    17.8    29.7        No   \n",
       "\n",
       "  RainTomorrow  \n",
       "0           No  \n",
       "1           No  \n",
       "2           No  \n",
       "3           No  \n",
       "4           No  \n",
       "\n",
       "[5 rows x 23 columns]"
      ]
     },
     "execution_count": 21,
     "metadata": {},
     "output_type": "execute_result"
    }
   ],
   "source": [
    "from sklearn.preprocessing import LabelEncoder\n",
    "le = LabelEncoder()\n",
    "for i in ['Location','WindGustDir','WindDir9am','WindDir3pm']:\n",
    "    df_preprocessed[i] = le.fit_transform(df_preprocessed[i])\n",
    "df_preprocessed.head()"
   ]
  },
  {
   "cell_type": "code",
   "execution_count": 22,
   "id": "3511e82b",
   "metadata": {
    "execution": {
     "iopub.execute_input": "2022-08-15T16:11:53.828888Z",
     "iopub.status.busy": "2022-08-15T16:11:53.828127Z",
     "iopub.status.idle": "2022-08-15T16:11:53.854689Z",
     "shell.execute_reply": "2022-08-15T16:11:53.853675Z"
    },
    "papermill": {
     "duration": 0.05231,
     "end_time": "2022-08-15T16:11:53.856846",
     "exception": false,
     "start_time": "2022-08-15T16:11:53.804536",
     "status": "completed"
    },
    "tags": []
   },
   "outputs": [
    {
     "data": {
      "text/plain": [
       "RainToday\n",
       "No           110319\n",
       "Yes           31880\n",
       "NaN            3261\n",
       "dtype: int64"
      ]
     },
     "execution_count": 22,
     "metadata": {},
     "output_type": "execute_result"
    }
   ],
   "source": [
    "df_preprocessed[['RainToday']].value_counts()"
   ]
  },
  {
   "cell_type": "code",
   "execution_count": 23,
   "id": "1a7057be",
   "metadata": {
    "execution": {
     "iopub.execute_input": "2022-08-15T16:11:53.892394Z",
     "iopub.status.busy": "2022-08-15T16:11:53.891649Z",
     "iopub.status.idle": "2022-08-15T16:11:53.914414Z",
     "shell.execute_reply": "2022-08-15T16:11:53.913575Z"
    },
    "papermill": {
     "duration": 0.043035,
     "end_time": "2022-08-15T16:11:53.916658",
     "exception": false,
     "start_time": "2022-08-15T16:11:53.873623",
     "status": "completed"
    },
    "tags": []
   },
   "outputs": [
    {
     "data": {
      "text/plain": [
       "RainTomorrow\n",
       "No              110316\n",
       "Yes              31877\n",
       "NaN               3267\n",
       "dtype: int64"
      ]
     },
     "execution_count": 23,
     "metadata": {},
     "output_type": "execute_result"
    }
   ],
   "source": [
    "df_preprocessed[['RainTomorrow']].value_counts()"
   ]
  },
  {
   "cell_type": "code",
   "execution_count": 24,
   "id": "671d81d5",
   "metadata": {
    "execution": {
     "iopub.execute_input": "2022-08-15T16:11:53.952518Z",
     "iopub.status.busy": "2022-08-15T16:11:53.951821Z",
     "iopub.status.idle": "2022-08-15T16:11:53.976283Z",
     "shell.execute_reply": "2022-08-15T16:11:53.975266Z"
    },
    "papermill": {
     "duration": 0.04503,
     "end_time": "2022-08-15T16:11:53.978616",
     "exception": false,
     "start_time": "2022-08-15T16:11:53.933586",
     "status": "completed"
    },
    "tags": []
   },
   "outputs": [
    {
     "data": {
      "text/plain": [
       "RainToday       0\n",
       "RainTomorrow    0\n",
       "dtype: int64"
      ]
     },
     "execution_count": 24,
     "metadata": {},
     "output_type": "execute_result"
    }
   ],
   "source": [
    "df_preprocessed[['RainToday','RainTomorrow']].isna().sum()"
   ]
  },
  {
   "cell_type": "code",
   "execution_count": 25,
   "id": "1e501455",
   "metadata": {
    "execution": {
     "iopub.execute_input": "2022-08-15T16:11:54.014644Z",
     "iopub.status.busy": "2022-08-15T16:11:54.014234Z",
     "iopub.status.idle": "2022-08-15T16:11:54.207206Z",
     "shell.execute_reply": "2022-08-15T16:11:54.206357Z"
    },
    "papermill": {
     "duration": 0.213926,
     "end_time": "2022-08-15T16:11:54.209708",
     "exception": false,
     "start_time": "2022-08-15T16:11:53.995782",
     "status": "completed"
    },
    "tags": []
   },
   "outputs": [],
   "source": [
    "df_clean = df_preprocessed[(df_preprocessed != \"NaN\").all(axis=1)]\n",
    "del df_preprocessed"
   ]
  },
  {
   "cell_type": "code",
   "execution_count": 26,
   "id": "abc76818",
   "metadata": {
    "execution": {
     "iopub.execute_input": "2022-08-15T16:11:54.246329Z",
     "iopub.status.busy": "2022-08-15T16:11:54.245416Z",
     "iopub.status.idle": "2022-08-15T16:11:54.257987Z",
     "shell.execute_reply": "2022-08-15T16:11:54.256798Z"
    },
    "papermill": {
     "duration": 0.033493,
     "end_time": "2022-08-15T16:11:54.260483",
     "exception": false,
     "start_time": "2022-08-15T16:11:54.226990",
     "status": "completed"
    },
    "tags": []
   },
   "outputs": [
    {
     "data": {
      "text/plain": [
       "No     45323\n",
       "Yes    12767\n",
       "Name: RainToday, dtype: int64"
      ]
     },
     "execution_count": 26,
     "metadata": {},
     "output_type": "execute_result"
    }
   ],
   "source": [
    "df_clean['RainToday'].value_counts()"
   ]
  },
  {
   "cell_type": "code",
   "execution_count": 27,
   "id": "9c15b276",
   "metadata": {
    "execution": {
     "iopub.execute_input": "2022-08-15T16:11:54.297258Z",
     "iopub.status.busy": "2022-08-15T16:11:54.296531Z",
     "iopub.status.idle": "2022-08-15T16:11:54.333254Z",
     "shell.execute_reply": "2022-08-15T16:11:54.332070Z"
    },
    "papermill": {
     "duration": 0.058094,
     "end_time": "2022-08-15T16:11:54.335999",
     "exception": false,
     "start_time": "2022-08-15T16:11:54.277905",
     "status": "completed"
    },
    "tags": []
   },
   "outputs": [],
   "source": [
    "label_dict = {'No': 0,'Yes':1}\n",
    "df_clean['RainTomorrow'] = df_clean['RainTomorrow'].map(label_dict)\n",
    "df_clean['RainToday'] = df_clean['RainToday'].map(label_dict)"
   ]
  },
  {
   "cell_type": "code",
   "execution_count": 28,
   "id": "aa90b5c8",
   "metadata": {
    "execution": {
     "iopub.execute_input": "2022-08-15T16:11:54.372395Z",
     "iopub.status.busy": "2022-08-15T16:11:54.371607Z",
     "iopub.status.idle": "2022-08-15T16:11:54.397423Z",
     "shell.execute_reply": "2022-08-15T16:11:54.396629Z"
    },
    "papermill": {
     "duration": 0.046244,
     "end_time": "2022-08-15T16:11:54.399450",
     "exception": false,
     "start_time": "2022-08-15T16:11:54.353206",
     "status": "completed"
    },
    "tags": []
   },
   "outputs": [
    {
     "data": {
      "text/html": [
       "<div>\n",
       "<style scoped>\n",
       "    .dataframe tbody tr th:only-of-type {\n",
       "        vertical-align: middle;\n",
       "    }\n",
       "\n",
       "    .dataframe tbody tr th {\n",
       "        vertical-align: top;\n",
       "    }\n",
       "\n",
       "    .dataframe thead th {\n",
       "        text-align: right;\n",
       "    }\n",
       "</style>\n",
       "<table border=\"1\" class=\"dataframe\">\n",
       "  <thead>\n",
       "    <tr style=\"text-align: right;\">\n",
       "      <th></th>\n",
       "      <th>Date</th>\n",
       "      <th>Location</th>\n",
       "      <th>MinTemp</th>\n",
       "      <th>MaxTemp</th>\n",
       "      <th>Rainfall</th>\n",
       "      <th>Evaporation</th>\n",
       "      <th>Sunshine</th>\n",
       "      <th>WindGustDir</th>\n",
       "      <th>WindGustSpeed</th>\n",
       "      <th>WindDir9am</th>\n",
       "      <th>...</th>\n",
       "      <th>Humidity9am</th>\n",
       "      <th>Humidity3pm</th>\n",
       "      <th>Pressure9am</th>\n",
       "      <th>Pressure3pm</th>\n",
       "      <th>Cloud9am</th>\n",
       "      <th>Cloud3pm</th>\n",
       "      <th>Temp9am</th>\n",
       "      <th>Temp3pm</th>\n",
       "      <th>RainToday</th>\n",
       "      <th>RainTomorrow</th>\n",
       "    </tr>\n",
       "  </thead>\n",
       "  <tbody>\n",
       "    <tr>\n",
       "      <th>6049</th>\n",
       "      <td>2009-01-01</td>\n",
       "      <td>10</td>\n",
       "      <td>17.9</td>\n",
       "      <td>35.2</td>\n",
       "      <td>0.0</td>\n",
       "      <td>12.0</td>\n",
       "      <td>12.3</td>\n",
       "      <td>12</td>\n",
       "      <td>48.0</td>\n",
       "      <td>1</td>\n",
       "      <td>...</td>\n",
       "      <td>20.0</td>\n",
       "      <td>13.0</td>\n",
       "      <td>1006.3</td>\n",
       "      <td>1004.4</td>\n",
       "      <td>2.0</td>\n",
       "      <td>5.0</td>\n",
       "      <td>26.6</td>\n",
       "      <td>33.4</td>\n",
       "      <td>0</td>\n",
       "      <td>0</td>\n",
       "    </tr>\n",
       "    <tr>\n",
       "      <th>6050</th>\n",
       "      <td>2009-01-02</td>\n",
       "      <td>10</td>\n",
       "      <td>18.4</td>\n",
       "      <td>28.9</td>\n",
       "      <td>0.0</td>\n",
       "      <td>14.8</td>\n",
       "      <td>13.0</td>\n",
       "      <td>9</td>\n",
       "      <td>37.0</td>\n",
       "      <td>11</td>\n",
       "      <td>...</td>\n",
       "      <td>30.0</td>\n",
       "      <td>8.0</td>\n",
       "      <td>1012.9</td>\n",
       "      <td>1012.1</td>\n",
       "      <td>1.0</td>\n",
       "      <td>1.0</td>\n",
       "      <td>20.3</td>\n",
       "      <td>27.0</td>\n",
       "      <td>0</td>\n",
       "      <td>0</td>\n",
       "    </tr>\n",
       "    <tr>\n",
       "      <th>6052</th>\n",
       "      <td>2009-01-04</td>\n",
       "      <td>10</td>\n",
       "      <td>19.4</td>\n",
       "      <td>37.6</td>\n",
       "      <td>0.0</td>\n",
       "      <td>10.8</td>\n",
       "      <td>10.6</td>\n",
       "      <td>5</td>\n",
       "      <td>46.0</td>\n",
       "      <td>5</td>\n",
       "      <td>...</td>\n",
       "      <td>42.0</td>\n",
       "      <td>22.0</td>\n",
       "      <td>1012.3</td>\n",
       "      <td>1009.2</td>\n",
       "      <td>1.0</td>\n",
       "      <td>6.0</td>\n",
       "      <td>28.7</td>\n",
       "      <td>34.9</td>\n",
       "      <td>0</td>\n",
       "      <td>0</td>\n",
       "    </tr>\n",
       "    <tr>\n",
       "      <th>6053</th>\n",
       "      <td>2009-01-05</td>\n",
       "      <td>10</td>\n",
       "      <td>21.9</td>\n",
       "      <td>38.4</td>\n",
       "      <td>0.0</td>\n",
       "      <td>11.4</td>\n",
       "      <td>12.2</td>\n",
       "      <td>15</td>\n",
       "      <td>31.0</td>\n",
       "      <td>15</td>\n",
       "      <td>...</td>\n",
       "      <td>37.0</td>\n",
       "      <td>22.0</td>\n",
       "      <td>1012.7</td>\n",
       "      <td>1009.1</td>\n",
       "      <td>1.0</td>\n",
       "      <td>5.0</td>\n",
       "      <td>29.1</td>\n",
       "      <td>35.6</td>\n",
       "      <td>0</td>\n",
       "      <td>0</td>\n",
       "    </tr>\n",
       "    <tr>\n",
       "      <th>6054</th>\n",
       "      <td>2009-01-06</td>\n",
       "      <td>10</td>\n",
       "      <td>24.2</td>\n",
       "      <td>41.0</td>\n",
       "      <td>0.0</td>\n",
       "      <td>11.2</td>\n",
       "      <td>8.4</td>\n",
       "      <td>15</td>\n",
       "      <td>35.0</td>\n",
       "      <td>7</td>\n",
       "      <td>...</td>\n",
       "      <td>19.0</td>\n",
       "      <td>15.0</td>\n",
       "      <td>1010.7</td>\n",
       "      <td>1007.4</td>\n",
       "      <td>1.0</td>\n",
       "      <td>6.0</td>\n",
       "      <td>33.6</td>\n",
       "      <td>37.6</td>\n",
       "      <td>0</td>\n",
       "      <td>0</td>\n",
       "    </tr>\n",
       "  </tbody>\n",
       "</table>\n",
       "<p>5 rows × 23 columns</p>\n",
       "</div>"
      ],
      "text/plain": [
       "           Date  Location MinTemp MaxTemp Rainfall Evaporation Sunshine  \\\n",
       "6049 2009-01-01        10    17.9    35.2      0.0        12.0     12.3   \n",
       "6050 2009-01-02        10    18.4    28.9      0.0        14.8     13.0   \n",
       "6052 2009-01-04        10    19.4    37.6      0.0        10.8     10.6   \n",
       "6053 2009-01-05        10    21.9    38.4      0.0        11.4     12.2   \n",
       "6054 2009-01-06        10    24.2    41.0      0.0        11.2      8.4   \n",
       "\n",
       "      WindGustDir WindGustSpeed  WindDir9am  ...  Humidity9am Humidity3pm  \\\n",
       "6049           12          48.0           1  ...         20.0        13.0   \n",
       "6050            9          37.0          11  ...         30.0         8.0   \n",
       "6052            5          46.0           5  ...         42.0        22.0   \n",
       "6053           15          31.0          15  ...         37.0        22.0   \n",
       "6054           15          35.0           7  ...         19.0        15.0   \n",
       "\n",
       "     Pressure9am Pressure3pm Cloud9am Cloud3pm Temp9am Temp3pm RainToday  \\\n",
       "6049      1006.3      1004.4      2.0      5.0    26.6    33.4         0   \n",
       "6050      1012.9      1012.1      1.0      1.0    20.3    27.0         0   \n",
       "6052      1012.3      1009.2      1.0      6.0    28.7    34.9         0   \n",
       "6053      1012.7      1009.1      1.0      5.0    29.1    35.6         0   \n",
       "6054      1010.7      1007.4      1.0      6.0    33.6    37.6         0   \n",
       "\n",
       "     RainTomorrow  \n",
       "6049            0  \n",
       "6050            0  \n",
       "6052            0  \n",
       "6053            0  \n",
       "6054            0  \n",
       "\n",
       "[5 rows x 23 columns]"
      ]
     },
     "execution_count": 28,
     "metadata": {},
     "output_type": "execute_result"
    }
   ],
   "source": [
    "df_clean.head()"
   ]
  },
  {
   "cell_type": "code",
   "execution_count": 29,
   "id": "4e662e57",
   "metadata": {
    "execution": {
     "iopub.execute_input": "2022-08-15T16:11:54.436126Z",
     "iopub.status.busy": "2022-08-15T16:11:54.435747Z",
     "iopub.status.idle": "2022-08-15T16:11:54.451261Z",
     "shell.execute_reply": "2022-08-15T16:11:54.450278Z"
    },
    "papermill": {
     "duration": 0.036935,
     "end_time": "2022-08-15T16:11:54.453908",
     "exception": false,
     "start_time": "2022-08-15T16:11:54.416973",
     "status": "completed"
    },
    "tags": []
   },
   "outputs": [],
   "source": [
    "# removing Date Column\n",
    "df_clean.drop(['Date'], axis=1, inplace=True)"
   ]
  },
  {
   "cell_type": "code",
   "execution_count": 30,
   "id": "e53d4dcf",
   "metadata": {
    "execution": {
     "iopub.execute_input": "2022-08-15T16:11:54.490869Z",
     "iopub.status.busy": "2022-08-15T16:11:54.490480Z",
     "iopub.status.idle": "2022-08-15T16:11:54.495485Z",
     "shell.execute_reply": "2022-08-15T16:11:54.494299Z"
    },
    "papermill": {
     "duration": 0.026366,
     "end_time": "2022-08-15T16:11:54.497790",
     "exception": false,
     "start_time": "2022-08-15T16:11:54.471424",
     "status": "completed"
    },
    "tags": []
   },
   "outputs": [],
   "source": [
    "df_clean.reset_index(drop=True, inplace=True)"
   ]
  },
  {
   "cell_type": "markdown",
   "id": "c769db00",
   "metadata": {
    "papermill": {
     "duration": 0.017287,
     "end_time": "2022-08-15T16:11:54.532855",
     "exception": false,
     "start_time": "2022-08-15T16:11:54.515568",
     "status": "completed"
    },
    "tags": []
   },
   "source": [
    "# DATA SPLICING - Splitting the dataset into training and testing datasets"
   ]
  },
  {
   "cell_type": "code",
   "execution_count": 31,
   "id": "b7074e70",
   "metadata": {
    "execution": {
     "iopub.execute_input": "2022-08-15T16:11:54.569703Z",
     "iopub.status.busy": "2022-08-15T16:11:54.569278Z",
     "iopub.status.idle": "2022-08-15T16:11:54.697899Z",
     "shell.execute_reply": "2022-08-15T16:11:54.696722Z"
    },
    "papermill": {
     "duration": 0.150084,
     "end_time": "2022-08-15T16:11:54.700629",
     "exception": false,
     "start_time": "2022-08-15T16:11:54.550545",
     "status": "completed"
    },
    "tags": []
   },
   "outputs": [],
   "source": [
    "# train test split\n",
    "from sklearn.model_selection import train_test_split\n",
    "X = df_clean.drop(columns=[\"RainTomorrow\"])\n",
    "y = df_clean[\"RainTomorrow\"]\n",
    "X_train, X_test, y_train, y_test = train_test_split(X, y, test_size=0.3, random_state=42)"
   ]
  },
  {
   "cell_type": "code",
   "execution_count": 32,
   "id": "953be100",
   "metadata": {
    "execution": {
     "iopub.execute_input": "2022-08-15T16:11:54.739217Z",
     "iopub.status.busy": "2022-08-15T16:11:54.738203Z",
     "iopub.status.idle": "2022-08-15T16:11:55.061542Z",
     "shell.execute_reply": "2022-08-15T16:11:55.060590Z"
    },
    "papermill": {
     "duration": 0.345618,
     "end_time": "2022-08-15T16:11:55.064099",
     "exception": false,
     "start_time": "2022-08-15T16:11:54.718481",
     "status": "completed"
    },
    "tags": []
   },
   "outputs": [],
   "source": [
    "# Feature Scaling\n",
    "from sklearn.preprocessing import MinMaxScaler\n",
    "scaler = MinMaxScaler()\n",
    "X_train_scaled = scaler.fit_transform(X_train)\n",
    "X_test_scaled = scaler.transform(X_test)"
   ]
  },
  {
   "cell_type": "code",
   "execution_count": 33,
   "id": "1f2f37ee",
   "metadata": {
    "execution": {
     "iopub.execute_input": "2022-08-15T16:11:55.101183Z",
     "iopub.status.busy": "2022-08-15T16:11:55.100813Z",
     "iopub.status.idle": "2022-08-15T16:11:55.106829Z",
     "shell.execute_reply": "2022-08-15T16:11:55.105784Z"
    },
    "papermill": {
     "duration": 0.027378,
     "end_time": "2022-08-15T16:11:55.109136",
     "exception": false,
     "start_time": "2022-08-15T16:11:55.081758",
     "status": "completed"
    },
    "tags": []
   },
   "outputs": [
    {
     "data": {
      "text/plain": [
       "(40663, 21)"
      ]
     },
     "execution_count": 33,
     "metadata": {},
     "output_type": "execute_result"
    }
   ],
   "source": [
    "X_train_scaled.shape"
   ]
  },
  {
   "cell_type": "code",
   "execution_count": 34,
   "id": "263df7ca",
   "metadata": {
    "execution": {
     "iopub.execute_input": "2022-08-15T16:11:55.146150Z",
     "iopub.status.busy": "2022-08-15T16:11:55.145758Z",
     "iopub.status.idle": "2022-08-15T16:11:55.152828Z",
     "shell.execute_reply": "2022-08-15T16:11:55.151793Z"
    },
    "papermill": {
     "duration": 0.028131,
     "end_time": "2022-08-15T16:11:55.154914",
     "exception": false,
     "start_time": "2022-08-15T16:11:55.126783",
     "status": "completed"
    },
    "tags": []
   },
   "outputs": [
    {
     "data": {
      "text/plain": [
       "array([0.4       , 0.63779528, 0.6712963 , 0.        , 0.14958449,\n",
       "       0.8041958 , 0.6875    , 0.32173913, 0.        , 0.6875    ,\n",
       "       0.28358209, 0.19736842, 0.51      , 0.24      , 0.66206897,\n",
       "       0.65448505, 0.125     , 0.33333333, 0.59600998, 0.63443396,\n",
       "       0.        ])"
      ]
     },
     "execution_count": 34,
     "metadata": {},
     "output_type": "execute_result"
    }
   ],
   "source": [
    "X_train_scaled[0,:]"
   ]
  },
  {
   "cell_type": "markdown",
   "id": "6ceba315",
   "metadata": {
    "papermill": {
     "duration": 0.017458,
     "end_time": "2022-08-15T16:11:55.190161",
     "exception": false,
     "start_time": "2022-08-15T16:11:55.172703",
     "status": "completed"
    },
    "tags": []
   },
   "source": [
    "# Feature Selection\n"
   ]
  },
  {
   "cell_type": "code",
   "execution_count": 35,
   "id": "4a4f6582",
   "metadata": {
    "execution": {
     "iopub.execute_input": "2022-08-15T16:11:55.227796Z",
     "iopub.status.busy": "2022-08-15T16:11:55.227430Z",
     "iopub.status.idle": "2022-08-15T16:11:55.392766Z",
     "shell.execute_reply": "2022-08-15T16:11:55.391353Z"
    },
    "papermill": {
     "duration": 0.187231,
     "end_time": "2022-08-15T16:11:55.395547",
     "exception": false,
     "start_time": "2022-08-15T16:11:55.208316",
     "status": "completed"
    },
    "tags": []
   },
   "outputs": [],
   "source": [
    "from sklearn.feature_selection import SelectKBest\n",
    "fs = SelectKBest(k=10)\n",
    "X_train_scaled = fs.fit_transform(X_train_scaled, y_train)\n",
    "X_test_scaled = fs.transform(X_test_scaled)"
   ]
  },
  {
   "cell_type": "markdown",
   "id": "3200b0d7",
   "metadata": {
    "papermill": {
     "duration": 0.017386,
     "end_time": "2022-08-15T16:11:55.431109",
     "exception": false,
     "start_time": "2022-08-15T16:11:55.413723",
     "status": "completed"
    },
    "tags": []
   },
   "source": [
    "# BaseLine Data Modeling\n",
    "Using multiple algorithms over the same dataset to measure the accuracy\n",
    "\n",
    "\n"
   ]
  },
  {
   "cell_type": "code",
   "execution_count": 36,
   "id": "5775dac6",
   "metadata": {
    "execution": {
     "iopub.execute_input": "2022-08-15T16:11:55.468085Z",
     "iopub.status.busy": "2022-08-15T16:11:55.467675Z",
     "iopub.status.idle": "2022-08-15T16:11:55.561739Z",
     "shell.execute_reply": "2022-08-15T16:11:55.560586Z"
    },
    "papermill": {
     "duration": 0.115519,
     "end_time": "2022-08-15T16:11:55.564444",
     "exception": false,
     "start_time": "2022-08-15T16:11:55.448925",
     "status": "completed"
    },
    "tags": []
   },
   "outputs": [],
   "source": [
    "from sklearn.linear_model import LogisticRegression\n",
    "from sklearn.tree import DecisionTreeClassifier\n",
    "from sklearn.ensemble import RandomForestClassifier"
   ]
  },
  {
   "cell_type": "markdown",
   "id": "6465669a",
   "metadata": {
    "papermill": {
     "duration": 0.017272,
     "end_time": "2022-08-15T16:11:55.599536",
     "exception": false,
     "start_time": "2022-08-15T16:11:55.582264",
     "status": "completed"
    },
    "tags": []
   },
   "source": [
    "# Logistic Regression"
   ]
  },
  {
   "cell_type": "code",
   "execution_count": 37,
   "id": "d4da1e2a",
   "metadata": {
    "execution": {
     "iopub.execute_input": "2022-08-15T16:11:55.636324Z",
     "iopub.status.busy": "2022-08-15T16:11:55.635896Z",
     "iopub.status.idle": "2022-08-15T16:11:56.120112Z",
     "shell.execute_reply": "2022-08-15T16:11:56.118508Z"
    },
    "papermill": {
     "duration": 0.507315,
     "end_time": "2022-08-15T16:11:56.124432",
     "exception": false,
     "start_time": "2022-08-15T16:11:55.617117",
     "status": "completed"
    },
    "tags": []
   },
   "outputs": [],
   "source": [
    "lr = LogisticRegression()\n",
    "lr.fit(X_train_scaled, y_train)\n",
    "y_lr = lr.predict(X_test_scaled)"
   ]
  },
  {
   "cell_type": "markdown",
   "id": "5a7dbb72",
   "metadata": {
    "papermill": {
     "duration": 0.046343,
     "end_time": "2022-08-15T16:11:56.217087",
     "exception": false,
     "start_time": "2022-08-15T16:11:56.170744",
     "status": "completed"
    },
    "tags": []
   },
   "source": [
    "# Decision Tree"
   ]
  },
  {
   "cell_type": "code",
   "execution_count": 38,
   "id": "47749255",
   "metadata": {
    "execution": {
     "iopub.execute_input": "2022-08-15T16:11:56.267684Z",
     "iopub.status.busy": "2022-08-15T16:11:56.267260Z",
     "iopub.status.idle": "2022-08-15T16:11:56.571473Z",
     "shell.execute_reply": "2022-08-15T16:11:56.570293Z"
    },
    "papermill": {
     "duration": 0.32613,
     "end_time": "2022-08-15T16:11:56.574332",
     "exception": false,
     "start_time": "2022-08-15T16:11:56.248202",
     "status": "completed"
    },
    "tags": []
   },
   "outputs": [],
   "source": [
    "dtree = DecisionTreeClassifier()\n",
    "dtree.fit(X_train_scaled, y_train)\n",
    "y_dtree = dtree.predict(X_test_scaled)"
   ]
  },
  {
   "cell_type": "markdown",
   "id": "c5b1326d",
   "metadata": {
    "papermill": {
     "duration": 0.017435,
     "end_time": "2022-08-15T16:11:56.609746",
     "exception": false,
     "start_time": "2022-08-15T16:11:56.592311",
     "status": "completed"
    },
    "tags": []
   },
   "source": [
    "# Random Forest"
   ]
  },
  {
   "cell_type": "code",
   "execution_count": 39,
   "id": "2799b484",
   "metadata": {
    "execution": {
     "iopub.execute_input": "2022-08-15T16:11:56.646805Z",
     "iopub.status.busy": "2022-08-15T16:11:56.646405Z",
     "iopub.status.idle": "2022-08-15T16:12:11.782404Z",
     "shell.execute_reply": "2022-08-15T16:12:11.781133Z"
    },
    "papermill": {
     "duration": 15.157525,
     "end_time": "2022-08-15T16:12:11.785004",
     "exception": false,
     "start_time": "2022-08-15T16:11:56.627479",
     "status": "completed"
    },
    "tags": []
   },
   "outputs": [],
   "source": [
    "rf = RandomForestClassifier(n_estimators=200)\n",
    "rf.fit(X_train_scaled, y_train)\n",
    "y_rf = rf.predict(X_test_scaled)"
   ]
  },
  {
   "cell_type": "markdown",
   "id": "38432629",
   "metadata": {
    "papermill": {
     "duration": 0.018568,
     "end_time": "2022-08-15T16:12:11.821615",
     "exception": false,
     "start_time": "2022-08-15T16:12:11.803047",
     "status": "completed"
    },
    "tags": []
   },
   "source": [
    "# Model Evaluation"
   ]
  },
  {
   "cell_type": "code",
   "execution_count": 40,
   "id": "c391c652",
   "metadata": {
    "execution": {
     "iopub.execute_input": "2022-08-15T16:12:11.860191Z",
     "iopub.status.busy": "2022-08-15T16:12:11.859785Z",
     "iopub.status.idle": "2022-08-15T16:12:11.873532Z",
     "shell.execute_reply": "2022-08-15T16:12:11.871848Z"
    },
    "papermill": {
     "duration": 0.036411,
     "end_time": "2022-08-15T16:12:11.876658",
     "exception": false,
     "start_time": "2022-08-15T16:12:11.840247",
     "status": "completed"
    },
    "tags": []
   },
   "outputs": [
    {
     "name": "stdout",
     "output_type": "stream",
     "text": [
      "********** Accuracy **********\n",
      "------------------------------\n",
      "Logistic Regression:  0.8471911401847707\n",
      "------------------------------\n",
      "------------------------------\n",
      "Decision Tree:  0.7890629482986171\n",
      "------------------------------\n",
      "------------------------------\n",
      "Random Forest:  0.8547082113961095\n",
      "------------------------------\n"
     ]
    }
   ],
   "source": [
    "from sklearn.metrics import accuracy_score, classification_report, confusion_matrix\n",
    "\n",
    "print(\"*\"*10, \"Accuracy\", \"*\"*10)\n",
    "\n",
    "print(\"-\"*30)\n",
    "print(\"Logistic Regression: \", accuracy_score(y_test, y_lr))\n",
    "print(\"-\"*30)\n",
    "\n",
    "\n",
    "print(\"-\"*30)\n",
    "print(\"Decision Tree: \", accuracy_score(y_test, y_dtree))\n",
    "print(\"-\"*30)\n",
    "\n",
    "\n",
    "print(\"-\"*30)\n",
    "print(\"Random Forest: \", accuracy_score(y_test, y_rf))\n",
    "print(\"-\"*30)\n"
   ]
  },
  {
   "cell_type": "code",
   "execution_count": 41,
   "id": "6dc1c4f1",
   "metadata": {
    "execution": {
     "iopub.execute_input": "2022-08-15T16:12:11.915720Z",
     "iopub.status.busy": "2022-08-15T16:12:11.914801Z",
     "iopub.status.idle": "2022-08-15T16:12:12.116222Z",
     "shell.execute_reply": "2022-08-15T16:12:12.114972Z"
    },
    "papermill": {
     "duration": 0.223424,
     "end_time": "2022-08-15T16:12:12.118613",
     "exception": false,
     "start_time": "2022-08-15T16:12:11.895189",
     "status": "completed"
    },
    "tags": []
   },
   "outputs": [
    {
     "data": {
      "image/png": "[encoded data removed]",
      "text/plain": [
       "<Figure size 720x504 with 1 Axes>"
      ]
     },
     "metadata": {},
     "output_type": "display_data"
    }
   ],
   "source": [
    "metric_val = {\n",
    "    \"accuracy score\": {\n",
    "    \"logistic reg\": accuracy_score(y_test,y_lr)*100,\n",
    "    \"decision tree\": accuracy_score(y_test,y_dtree)*100,\n",
    "    \"random for\": accuracy_score(y_test,y_rf)*100\n",
    "    }\n",
    "}\n",
    "\n",
    "ax = pd.DataFrame(metric_val).plot(kind=\"bar\", \n",
    "                             figsize = (10,7), \n",
    "                             legend =False, \n",
    "                             title = \"Accuracy Score\",\n",
    "                             color = \"y\");\n",
    "                    \n",
    "for p in ax.patches:\n",
    "    ax.annotate(str(round(p.get_height(), 1)), (p.get_x() * 1.005, p.get_height() * 1.005))"
   ]
  },
  {
   "cell_type": "markdown",
   "id": "81335630",
   "metadata": {
    "papermill": {
     "duration": 0.017853,
     "end_time": "2022-08-15T16:12:12.154783",
     "exception": false,
     "start_time": "2022-08-15T16:12:12.136930",
     "status": "completed"
    },
    "tags": []
   },
   "source": [
    "# Model Evaluation (performance analysis)\n",
    "\n"
   ]
  },
  {
   "cell_type": "code",
   "execution_count": 42,
   "id": "e746a7fc",
   "metadata": {
    "execution": {
     "iopub.execute_input": "2022-08-15T16:12:12.193246Z",
     "iopub.status.busy": "2022-08-15T16:12:12.192451Z",
     "iopub.status.idle": "2022-08-15T16:12:12.212107Z",
     "shell.execute_reply": "2022-08-15T16:12:12.210901Z"
    },
    "papermill": {
     "duration": 0.044342,
     "end_time": "2022-08-15T16:12:12.217201",
     "exception": false,
     "start_time": "2022-08-15T16:12:12.172859",
     "status": "completed"
    },
    "tags": []
   },
   "outputs": [
    {
     "name": "stdout",
     "output_type": "stream",
     "text": [
      "Logistic Regression:  0.8471911401847707\n"
     ]
    }
   ],
   "source": [
    "from sklearn.metrics import accuracy_score\n",
    "y_pred = lr.predict(X_test_scaled)\n",
    "print('Logistic Regression: ',accuracy_score(y_pred, y_test))"
   ]
  },
  {
   "cell_type": "code",
   "execution_count": 43,
   "id": "ee74016a",
   "metadata": {
    "execution": {
     "iopub.execute_input": "2022-08-15T16:12:12.313894Z",
     "iopub.status.busy": "2022-08-15T16:12:12.313164Z",
     "iopub.status.idle": "2022-08-15T16:12:12.329449Z",
     "shell.execute_reply": "2022-08-15T16:12:12.328207Z"
    },
    "papermill": {
     "duration": 0.067073,
     "end_time": "2022-08-15T16:12:12.331683",
     "exception": false,
     "start_time": "2022-08-15T16:12:12.264610",
     "status": "completed"
    },
    "tags": []
   },
   "outputs": [
    {
     "name": "stdout",
     "output_type": "stream",
     "text": [
      "Decision Tree:  0.7890629482986171\n"
     ]
    }
   ],
   "source": [
    "from sklearn.metrics import accuracy_score\n",
    "y_pred = dtree.predict(X_test_scaled)\n",
    "print('Decision Tree: ',accuracy_score(y_pred, y_test))"
   ]
  },
  {
   "cell_type": "code",
   "execution_count": 44,
   "id": "86320cd8",
   "metadata": {
    "execution": {
     "iopub.execute_input": "2022-08-15T16:12:12.370214Z",
     "iopub.status.busy": "2022-08-15T16:12:12.369652Z",
     "iopub.status.idle": "2022-08-15T16:12:13.194540Z",
     "shell.execute_reply": "2022-08-15T16:12:13.193104Z"
    },
    "papermill": {
     "duration": 0.847669,
     "end_time": "2022-08-15T16:12:13.197638",
     "exception": false,
     "start_time": "2022-08-15T16:12:12.349969",
     "status": "completed"
    },
    "tags": []
   },
   "outputs": [
    {
     "name": "stdout",
     "output_type": "stream",
     "text": [
      "Random Forest:  0.8547082113961095\n"
     ]
    }
   ],
   "source": [
    "from sklearn.metrics import accuracy_score\n",
    "y_pred = rf.predict(X_test_scaled)\n",
    "print('Random Forest: ',accuracy_score(y_pred, y_test))"
   ]
  },
  {
   "cell_type": "markdown",
   "id": "40584599",
   "metadata": {
    "papermill": {
     "duration": 0.017878,
     "end_time": "2022-08-15T16:12:13.234516",
     "exception": false,
     "start_time": "2022-08-15T16:12:13.216638",
     "status": "completed"
    },
    "tags": []
   },
   "source": [
    "***"
   ]
  }
 ],
 "metadata": {
  "kernelspec": {
   "display_name": "Python 3",
   "language": "python",
   "name": "python3"
  },
  "language_info": {
   "codemirror_mode": {
    "name": "ipython",
    "version": 3
   },
   "file_extension": ".py",
   "mimetype": "text/x-python",
   "name": "python",
   "nbconvert_exporter": "python",
   "pygments_lexer": "ipython3",
   "version": "3.7.12"
  },
  "papermill": {
   "default_parameters": {},
   "duration": 34.407275,
   "end_time": "2022-08-15T16:12:14.074169",
   "environment_variables": {},
   "exception": null,
   "input_path": "__notebook__.ipynb",
   "output_path": "__notebook__.ipynb",
   "parameters": {},
   "start_time": "2022-08-15T16:11:39.666894",
   "version": "2.3.4"
  }
 },
 "nbformat": 4,
 "nbformat_minor": 5
}
